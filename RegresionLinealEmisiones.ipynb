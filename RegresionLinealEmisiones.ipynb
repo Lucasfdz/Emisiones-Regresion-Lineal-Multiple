{
 "cells": [
  {
   "cell_type": "code",
   "execution_count": 1,
   "id": "478d458f",
   "metadata": {},
   "outputs": [],
   "source": [
    "import numpy as np\n",
    "import pandas as pd\n",
    "import matplotlib.pyplot as plt\n",
    "import seaborn as sns\n",
    "\n",
    "from sklearn.linear_model import LinearRegression\n",
    "from sklearn.model_selection import train_test_split"
   ]
  },
  {
   "cell_type": "code",
   "execution_count": 2,
   "id": "02c5c66a",
   "metadata": {},
   "outputs": [],
   "source": [
    "df = pd.read_csv(\"FuelConsumptionCo2.csv\")"
   ]
  },
  {
   "cell_type": "code",
   "execution_count": 3,
   "id": "c2ecc7c8",
   "metadata": {
    "scrolled": true
   },
   "outputs": [
    {
     "name": "stdout",
     "output_type": "stream",
     "text": [
      "<class 'pandas.core.frame.DataFrame'>\n",
      "RangeIndex: 1067 entries, 0 to 1066\n",
      "Data columns (total 13 columns):\n",
      " #   Column                    Non-Null Count  Dtype  \n",
      "---  ------                    --------------  -----  \n",
      " 0   MODELYEAR                 1067 non-null   int64  \n",
      " 1   MAKE                      1067 non-null   object \n",
      " 2   MODEL                     1067 non-null   object \n",
      " 3   VEHICLECLASS              1067 non-null   object \n",
      " 4   ENGINESIZE                1067 non-null   float64\n",
      " 5   CYLINDERS                 1067 non-null   int64  \n",
      " 6   TRANSMISSION              1067 non-null   object \n",
      " 7   FUELTYPE                  1067 non-null   object \n",
      " 8   FUELCONSUMPTION_CITY      1067 non-null   float64\n",
      " 9   FUELCONSUMPTION_HWY       1067 non-null   float64\n",
      " 10  FUELCONSUMPTION_COMB      1067 non-null   float64\n",
      " 11  FUELCONSUMPTION_COMB_MPG  1067 non-null   int64  \n",
      " 12  CO2EMISSIONS              1067 non-null   int64  \n",
      "dtypes: float64(4), int64(4), object(5)\n",
      "memory usage: 108.5+ KB\n"
     ]
    }
   ],
   "source": [
    "df.info()"
   ]
  },
  {
   "cell_type": "markdown",
   "id": "c25fcc83",
   "metadata": {},
   "source": [
    "Solo valores numéricos."
   ]
  },
  {
   "cell_type": "code",
   "execution_count": 4,
   "id": "8f7a990a",
   "metadata": {},
   "outputs": [
    {
     "data": {
      "text/html": [
       "<div>\n",
       "<style scoped>\n",
       "    .dataframe tbody tr th:only-of-type {\n",
       "        vertical-align: middle;\n",
       "    }\n",
       "\n",
       "    .dataframe tbody tr th {\n",
       "        vertical-align: top;\n",
       "    }\n",
       "\n",
       "    .dataframe thead th {\n",
       "        text-align: right;\n",
       "    }\n",
       "</style>\n",
       "<table border=\"1\" class=\"dataframe\">\n",
       "  <thead>\n",
       "    <tr style=\"text-align: right;\">\n",
       "      <th></th>\n",
       "      <th>MODELYEAR</th>\n",
       "      <th>ENGINESIZE</th>\n",
       "      <th>CYLINDERS</th>\n",
       "      <th>FUELCONSUMPTION_CITY</th>\n",
       "      <th>FUELCONSUMPTION_HWY</th>\n",
       "      <th>FUELCONSUMPTION_COMB</th>\n",
       "      <th>FUELCONSUMPTION_COMB_MPG</th>\n",
       "      <th>CO2EMISSIONS</th>\n",
       "    </tr>\n",
       "  </thead>\n",
       "  <tbody>\n",
       "    <tr>\n",
       "      <th>207</th>\n",
       "      <td>2014</td>\n",
       "      <td>2.4</td>\n",
       "      <td>4</td>\n",
       "      <td>11.5</td>\n",
       "      <td>8.2</td>\n",
       "      <td>10.0</td>\n",
       "      <td>28</td>\n",
       "      <td>230</td>\n",
       "    </tr>\n",
       "  </tbody>\n",
       "</table>\n",
       "</div>"
      ],
      "text/plain": [
       "     MODELYEAR  ENGINESIZE  CYLINDERS  FUELCONSUMPTION_CITY  \\\n",
       "207       2014         2.4          4                  11.5   \n",
       "\n",
       "     FUELCONSUMPTION_HWY  FUELCONSUMPTION_COMB  FUELCONSUMPTION_COMB_MPG  \\\n",
       "207                  8.2                  10.0                        28   \n",
       "\n",
       "     CO2EMISSIONS  \n",
       "207           230  "
      ]
     },
     "execution_count": 4,
     "metadata": {},
     "output_type": "execute_result"
    }
   ],
   "source": [
    "df._get_numeric_data().sample(1)"
   ]
  },
  {
   "cell_type": "code",
   "execution_count": 5,
   "id": "2ff46d01",
   "metadata": {},
   "outputs": [
    {
     "data": {
      "text/html": [
       "<div>\n",
       "<style scoped>\n",
       "    .dataframe tbody tr th:only-of-type {\n",
       "        vertical-align: middle;\n",
       "    }\n",
       "\n",
       "    .dataframe tbody tr th {\n",
       "        vertical-align: top;\n",
       "    }\n",
       "\n",
       "    .dataframe thead th {\n",
       "        text-align: right;\n",
       "    }\n",
       "</style>\n",
       "<table border=\"1\" class=\"dataframe\">\n",
       "  <thead>\n",
       "    <tr style=\"text-align: right;\">\n",
       "      <th></th>\n",
       "      <th>ENGINESIZE</th>\n",
       "      <th>CYLINDERS</th>\n",
       "      <th>FUELCONSUMPTION_CITY</th>\n",
       "      <th>FUELCONSUMPTION_HWY</th>\n",
       "      <th>FUELCONSUMPTION_COMB</th>\n",
       "      <th>FUELCONSUMPTION_COMB_MPG</th>\n",
       "    </tr>\n",
       "  </thead>\n",
       "  <tbody>\n",
       "    <tr>\n",
       "      <th>0</th>\n",
       "      <td>2.0</td>\n",
       "      <td>4</td>\n",
       "      <td>9.9</td>\n",
       "      <td>6.7</td>\n",
       "      <td>8.5</td>\n",
       "      <td>33</td>\n",
       "    </tr>\n",
       "    <tr>\n",
       "      <th>1</th>\n",
       "      <td>2.4</td>\n",
       "      <td>4</td>\n",
       "      <td>11.2</td>\n",
       "      <td>7.7</td>\n",
       "      <td>9.6</td>\n",
       "      <td>29</td>\n",
       "    </tr>\n",
       "    <tr>\n",
       "      <th>2</th>\n",
       "      <td>1.5</td>\n",
       "      <td>4</td>\n",
       "      <td>6.0</td>\n",
       "      <td>5.8</td>\n",
       "      <td>5.9</td>\n",
       "      <td>48</td>\n",
       "    </tr>\n",
       "    <tr>\n",
       "      <th>3</th>\n",
       "      <td>3.5</td>\n",
       "      <td>6</td>\n",
       "      <td>12.7</td>\n",
       "      <td>9.1</td>\n",
       "      <td>11.1</td>\n",
       "      <td>25</td>\n",
       "    </tr>\n",
       "    <tr>\n",
       "      <th>4</th>\n",
       "      <td>3.5</td>\n",
       "      <td>6</td>\n",
       "      <td>12.1</td>\n",
       "      <td>8.7</td>\n",
       "      <td>10.6</td>\n",
       "      <td>27</td>\n",
       "    </tr>\n",
       "    <tr>\n",
       "      <th>...</th>\n",
       "      <td>...</td>\n",
       "      <td>...</td>\n",
       "      <td>...</td>\n",
       "      <td>...</td>\n",
       "      <td>...</td>\n",
       "      <td>...</td>\n",
       "    </tr>\n",
       "    <tr>\n",
       "      <th>1062</th>\n",
       "      <td>3.0</td>\n",
       "      <td>6</td>\n",
       "      <td>13.4</td>\n",
       "      <td>9.8</td>\n",
       "      <td>11.8</td>\n",
       "      <td>24</td>\n",
       "    </tr>\n",
       "    <tr>\n",
       "      <th>1063</th>\n",
       "      <td>3.2</td>\n",
       "      <td>6</td>\n",
       "      <td>13.2</td>\n",
       "      <td>9.5</td>\n",
       "      <td>11.5</td>\n",
       "      <td>25</td>\n",
       "    </tr>\n",
       "    <tr>\n",
       "      <th>1064</th>\n",
       "      <td>3.0</td>\n",
       "      <td>6</td>\n",
       "      <td>13.4</td>\n",
       "      <td>9.8</td>\n",
       "      <td>11.8</td>\n",
       "      <td>24</td>\n",
       "    </tr>\n",
       "    <tr>\n",
       "      <th>1065</th>\n",
       "      <td>3.2</td>\n",
       "      <td>6</td>\n",
       "      <td>12.9</td>\n",
       "      <td>9.3</td>\n",
       "      <td>11.3</td>\n",
       "      <td>25</td>\n",
       "    </tr>\n",
       "    <tr>\n",
       "      <th>1066</th>\n",
       "      <td>3.2</td>\n",
       "      <td>6</td>\n",
       "      <td>14.9</td>\n",
       "      <td>10.2</td>\n",
       "      <td>12.8</td>\n",
       "      <td>22</td>\n",
       "    </tr>\n",
       "  </tbody>\n",
       "</table>\n",
       "<p>1067 rows × 6 columns</p>\n",
       "</div>"
      ],
      "text/plain": [
       "      ENGINESIZE  CYLINDERS  FUELCONSUMPTION_CITY  FUELCONSUMPTION_HWY  \\\n",
       "0            2.0          4                   9.9                  6.7   \n",
       "1            2.4          4                  11.2                  7.7   \n",
       "2            1.5          4                   6.0                  5.8   \n",
       "3            3.5          6                  12.7                  9.1   \n",
       "4            3.5          6                  12.1                  8.7   \n",
       "...          ...        ...                   ...                  ...   \n",
       "1062         3.0          6                  13.4                  9.8   \n",
       "1063         3.2          6                  13.2                  9.5   \n",
       "1064         3.0          6                  13.4                  9.8   \n",
       "1065         3.2          6                  12.9                  9.3   \n",
       "1066         3.2          6                  14.9                 10.2   \n",
       "\n",
       "      FUELCONSUMPTION_COMB  FUELCONSUMPTION_COMB_MPG  \n",
       "0                      8.5                        33  \n",
       "1                      9.6                        29  \n",
       "2                      5.9                        48  \n",
       "3                     11.1                        25  \n",
       "4                     10.6                        27  \n",
       "...                    ...                       ...  \n",
       "1062                  11.8                        24  \n",
       "1063                  11.5                        25  \n",
       "1064                  11.8                        24  \n",
       "1065                  11.3                        25  \n",
       "1066                  12.8                        22  \n",
       "\n",
       "[1067 rows x 6 columns]"
      ]
     },
     "execution_count": 5,
     "metadata": {},
     "output_type": "execute_result"
    }
   ],
   "source": [
    "df._get_numeric_data().iloc[:,1:-1]"
   ]
  },
  {
   "attachments": {
    "Imagen%2014-6-23%20a%20las%2010.22.jpeg": {
     "image/jpeg": "[encoded data removed]"
    }
   },
   "cell_type": "markdown",
   "id": "60d85cc9",
   "metadata": {},
   "source": [
    "![Imagen%2014-6-23%20a%20las%2010.22.jpeg](attachment:Imagen%2014-6-23%20a%20las%2010.22.jpeg)"
   ]
  },
  {
   "cell_type": "code",
   "execution_count": 6,
   "id": "ad2a0e13",
   "metadata": {
    "scrolled": false
   },
   "outputs": [
    {
     "data": {
      "image/png": "[encoded data removed]",
      "text/plain": [
       "<Figure size 640x480 with 2 Axes>"
      ]
     },
     "metadata": {},
     "output_type": "display_data"
    }
   ],
   "source": [
    "sns.heatmap(data = df._get_numeric_data().iloc[:, 1:-1].corr(), annot = True)\n",
    "plt.show()"
   ]
  },
  {
   "cell_type": "markdown",
   "id": "84866b4c",
   "metadata": {},
   "source": [
    "Utilizamos solo tres variables, ya que HWY y COMB son dependientes, por lo que no aportan información adicional."
   ]
  },
  {
   "cell_type": "code",
   "execution_count": 7,
   "id": "3ad496ab",
   "metadata": {
    "scrolled": true
   },
   "outputs": [],
   "source": [
    "xxa = df[[\"ENGINESIZE\", \"CYLINDERS\", \"FUELCONSUMPTION_CITY\"]]"
   ]
  },
  {
   "cell_type": "markdown",
   "id": "00059582",
   "metadata": {},
   "source": [
    "Generamos dos array, uno con las variables numéricas, y otro con la variable objeto de la regresión. Aquí jugamos con el de num para sleccionar las variables."
   ]
  },
  {
   "cell_type": "code",
   "execution_count": 8,
   "id": "a114e3de",
   "metadata": {},
   "outputs": [],
   "source": [
    "num = np.array(xxa)"
   ]
  },
  {
   "cell_type": "code",
   "execution_count": 9,
   "id": "305c0d81",
   "metadata": {},
   "outputs": [],
   "source": [
    "objetivo = np.array(df[\"CO2EMISSIONS\"])"
   ]
  },
  {
   "cell_type": "code",
   "execution_count": 10,
   "id": "86198c81",
   "metadata": {},
   "outputs": [
    {
     "data": {
      "text/plain": [
       "((1067, 3), (1067,))"
      ]
     },
     "execution_count": 10,
     "metadata": {},
     "output_type": "execute_result"
    }
   ],
   "source": [
    "num.shape,objetivo.shape"
   ]
  },
  {
   "cell_type": "markdown",
   "id": "23b4565a",
   "metadata": {},
   "source": [
    "### Entrenamiento del modelo: Train, Test"
   ]
  },
  {
   "cell_type": "code",
   "execution_count": 11,
   "id": "16bf827f",
   "metadata": {
    "scrolled": true
   },
   "outputs": [
    {
     "name": "stdout",
     "output_type": "stream",
     "text": [
      "Conjunto de Train: ((640, 3), (640,))\n",
      "Conjunto de Test: ((427, 3), (427,))\n"
     ]
    }
   ],
   "source": [
    "X_train, X_test, y_train, y_test = train_test_split(num, objetivo, test_size = 0.40, random_state = 42)\n",
    "\n",
    "print(f\"Conjunto de Train: {X_train.shape, y_train.shape}\")\n",
    "print(f\"Conjunto de Test: {X_test.shape, y_test.shape}\")"
   ]
  },
  {
   "cell_type": "markdown",
   "id": "6283d821",
   "metadata": {},
   "source": [
    "### Algoritmo de Regresión Lineal"
   ]
  },
  {
   "cell_type": "code",
   "execution_count": 12,
   "id": "0f9e7972",
   "metadata": {
    "scrolled": true
   },
   "outputs": [
    {
     "data": {
      "text/plain": [
       "LinearRegression()"
      ]
     },
     "execution_count": 12,
     "metadata": {},
     "output_type": "execute_result"
    }
   ],
   "source": [
    "regresion_lineal = LinearRegression()\n",
    "regresion_lineal.fit(X_train, y_train)"
   ]
  },
  {
   "cell_type": "markdown",
   "id": "362a526b",
   "metadata": {},
   "source": [
    "Encontramos los coeficientes de la recta."
   ]
  },
  {
   "cell_type": "code",
   "execution_count": 13,
   "id": "60edf9ad",
   "metadata": {},
   "outputs": [
    {
     "name": "stdout",
     "output_type": "stream",
     "text": [
      "weights: [11.67051533  6.18271251  8.2379017 ]\n",
      "w_0: 72.18270861168963\n"
     ]
    }
   ],
   "source": [
    "print (\"weights:\", regresion_lineal.coef_)\n",
    "print (\"w_0:\", regresion_lineal.intercept_)"
   ]
  },
  {
   "cell_type": "markdown",
   "id": "fbf469b5",
   "metadata": {},
   "source": [
    "### Predicciones"
   ]
  },
  {
   "cell_type": "code",
   "execution_count": 14,
   "id": "617ed1cb",
   "metadata": {},
   "outputs": [
    {
     "name": "stdout",
     "output_type": "stream",
     "text": [
      "Predicción:303.3595168656875 \tValor real:304\n",
      "Predicción:243.21407649432376 \tValor real:221\n",
      "Predicción:275.68515448231625 \tValor real:294\n",
      "Predicción:238.2026090007272 \tValor real:221\n",
      "Predicción:206.75255713079292 \tValor real:207\n",
      "Predicción:247.26430086936608 \tValor real:246\n",
      "Predicción:306.98918093761415 \tValor real:259\n",
      "Predicción:277.88199010346574 \tValor real:310\n",
      "Predicción:308.50825180352376 \tValor real:310\n",
      "Predicción:309.46055144724295 \tValor real:264\n",
      "Predicción:291.33716770996523 \tValor real:230\n",
      "Predicción:395.0922765512252 \tValor real:393\n",
      "Predicción:253.7173547841365 \tValor real:258\n",
      "Predicción:253.0995585328389 \tValor real:246\n",
      "Predicción:261.6807215944198 \tValor real:269\n",
      "Predicción:254.7471388725914 \tValor real:255\n",
      "Predicción:210.32225269877725 \tValor real:232\n",
      "Predicción:254.26661006553348 \tValor real:242\n",
      "Predicción:190.55128862174698 \tValor real:184\n",
      "Predicción:306.2428752124736 \tValor real:299\n",
      "Predicción:316.74615350228635 \tValor real:334\n",
      "Predicción:208.53740491478507 \tValor real:216\n",
      "Predicción:257.01251546364153 \tValor real:267\n",
      "Predicción:251.31471074884672 \tValor real:235\n",
      "Predicción:261.2687337572625 \tValor real:285\n",
      "Predicción:196.18055236664117 \tValor real:196\n",
      "Predicción:204.28118662116412 \tValor real:209\n",
      "Predicción:185.6085476024894 \tValor real:175\n",
      "Predicción:309.400768447739 \tValor real:297\n",
      "Predicción:249.5984039347552 \tValor real:248\n",
      "Predicción:386.4937830532893 \tValor real:346\n",
      "Predicción:205.65423207243737 \tValor real:196\n",
      "Predicción:207.71361474490882 \tValor real:216\n",
      "Predicción:328.27921588055403 \tValor real:354\n",
      "Predicción:240.67397951035593 \tValor real:228\n",
      "Predicción:286.05992329828604 \tValor real:264\n",
      "Predicción:279.5381429091766 \tValor real:260\n",
      "Predicción:391.9170528796048 \tValor real:362\n",
      "Predicción:199.33844560190656 \tValor real:196\n",
      "Predicción:198.5833819063693 \tValor real:196\n",
      "Predicción:174.89927539409803 \tValor real:152\n",
      "Predicción:187.25612794224193 \tValor real:177\n",
      "Predicción:184.92202487685282 \tValor real:182\n",
      "Predicción:212.58781479426574 \tValor real:207\n",
      "Predicción:277.88199010346574 \tValor real:301\n",
      "Predicción:197.14160998075707 \tValor real:207\n",
      "Predicción:244.79293035973728 \tValor real:244\n",
      "Predicción:257.14978290788116 \tValor real:278\n",
      "Predicción:195.21949475252526 \tValor real:179\n",
      "Predicción:364.3972883768282 \tValor real:400\n",
      "Predicción:317.570129176601 \tValor real:292\n",
      "Predicción:274.86136431244 \tValor real:308\n",
      "Predicción:213.342878489803 \tValor real:225\n",
      "Predicción:265.31914363674315 \tValor real:281\n",
      "Predicción:269.5066354560251 \tValor real:292\n",
      "Predicción:315.3045670811125 \tValor real:317\n",
      "Predicción:380.3839905013371 \tValor real:344\n",
      "Predicción:322.44414372151954 \tValor real:324\n",
      "Predicción:186.98159305376265 \tValor real:177\n",
      "Predicción:276.44040368229184 \tValor real:290\n",
      "Predicción:306.7232185150932 \tValor real:320\n",
      "Predicción:269.8500823232818 \tValor real:271\n",
      "Predicción:291.6204605688412 \tValor real:281\n",
      "Predicción:256.7379805751622 \tValor real:251\n",
      "Predicción:192.19886896149953 \tValor real:191\n",
      "Predicción:246.16597581101053 \tValor real:237\n",
      "Predicción:188.21718555635786 \tValor real:179\n",
      "Predicción:303.70277822850585 \tValor real:294\n",
      "Predicción:253.85462222837617 \tValor real:267\n",
      "Predicción:263.67156329699066 \tValor real:269\n",
      "Predicción:349.69776029733686 \tValor real:280\n",
      "Predicción:193.57191441277274 \tValor real:189\n",
      "Predicción:259.689879891849 \tValor real:264\n",
      "Predicción:209.22392764042172 \tValor real:216\n",
      "Predicción:214.99045882955554 \tValor real:230\n",
      "Predicción:293.808538219594 \tValor real:237\n",
      "Predicción:336.72311149789533 \tValor real:380\n",
      "Predicción:348.87415563189893 \tValor real:377\n",
      "Predicción:331.5745620644974 \tValor real:340\n",
      "Predicción:257.2185093822202 \tValor real:251\n",
      "Predicción:199.88770088330352 \tValor real:186\n",
      "Predicción:188.7664408377548 \tValor real:182\n",
      "Predicción:228.9263507475513 \tValor real:251\n",
      "Predicción:270.39915210024037 \tValor real:294\n",
      "Predicción:192.19886896149953 \tValor real:191\n",
      "Predicción:241.49776968023224 \tValor real:278\n",
      "Predicción:220.07922526344942 \tValor real:191\n",
      "Predicción:186.15780288388638 \tValor real:161\n",
      "Predicción:330.6820454202822 \tValor real:340\n",
      "Predicción:187.8053832236389 \tValor real:166\n",
      "Predicción:228.93492321350965 \tValor real:212\n",
      "Predicción:345.3040890550378 \tValor real:407\n",
      "Predicción:216.02900088840715 \tValor real:175\n",
      "Predicción:181.35232930886846 \tValor real:156\n",
      "Predicción:187.8053832236389 \tValor real:197\n",
      "Predicción:202.6336062814116 \tValor real:193\n",
      "Predicción:217.187294450705 \tValor real:225\n",
      "Predicción:221.79553207754094 \tValor real:189\n",
      "Predicción:273.21378397268745 \tValor real:294\n",
      "Predicción:334.45773490684513 \tValor real:359\n",
      "Predicción:339.81246376326004 \tValor real:347\n",
      "Predicción:210.11644428463697 \tValor real:207\n",
      "Predicción:273.21378397268745 \tValor real:290\n",
      "Predicción:221.30624530008632 \tValor real:255\n",
      "Predicción:288.86579720033643 \tValor real:229\n",
      "Predicción:170.3683367075594 \tValor real:152\n",
      "Predicción:240.67397951035593 \tValor real:228\n",
      "Predicción:207.57634730066917 \tValor real:209\n",
      "Predicción:216.36350428082875 \tValor real:225\n",
      "Predicción:211.6952981500505 \tValor real:223\n",
      "Predicción:192.67939776855746 \tValor real:186\n",
      "Predicción:290.17011617727064 \tValor real:229\n",
      "Predicción:263.3283019341723 \tValor real:276\n",
      "Predicción:235.52524457251974 \tValor real:228\n",
      "Predicción:314.54931788113686 \tValor real:347\n",
      "Predicción:257.56177074503853 \tValor real:260\n",
      "Predicción:267.79051414637195 \tValor real:283\n",
      "Predicción:351.482608081329 \tValor real:414\n",
      "Predicción:267.44725278355367 \tValor real:294\n",
      "Predicción:197.96540015063334 \tValor real:207\n",
      "Predicción:251.4519781930864 \tValor real:253\n",
      "Predicción:168.78948284214587 \tValor real:145\n",
      "Predicción:223.98360972829374 \tValor real:235\n",
      "Predicción:163.2289455715907 \tValor real:129\n",
      "Predicción:242.32155985010849 \tValor real:232\n",
      "Predicción:208.94939275194238 \tValor real:200\n",
      "Predicción:271.56620363293496 \tValor real:290\n",
      "Predicción:186.15780288388638 \tValor real:184\n",
      "Predicción:318.32519287213825 \tValor real:294\n",
      "Predicción:204.28118662116412 \tValor real:202\n",
      "Predicción:192.19886896149953 \tValor real:196\n",
      "Predicción:207.0270920192722 \tValor real:223\n",
      "Predicción:373.7251281724264 \tValor real:435\n",
      "Predicción:188.7664408377548 \tValor real:177\n",
      "Predicción:275.34189311949797 \tValor real:308\n",
      "Predicción:250.55946154887113 \tValor real:258\n",
      "Predicción:252.20704188862362 \tValor real:258\n",
      "Predicción:309.400768447739 \tValor real:297\n",
      "Predicción:205.92876696091668 \tValor real:200\n",
      "Predicción:294.3663659669493 \tValor real:290\n",
      "Predicción:316.6776125323857 \tValor real:301\n",
      "Predicción:259.689879891849 \tValor real:265\n",
      "Predicción:190.55128862174698 \tValor real:184\n",
      "Predicción:256.7379805751622 \tValor real:251\n",
      "Predicción:183.2744445371003 \tValor real:179\n",
      "Predicción:254.7471388725914 \tValor real:255\n",
      "Predicción:313.5795022966243 \tValor real:269\n",
      "Predicción:156.63862421258062 \tValor real:110\n",
      "Predicción:324.220233535115 \tValor real:285\n",
      "Predicción:342.9787439600454 \tValor real:361\n",
      "Predicción:214.99045882955554 \tValor real:235\n",
      "Predicción:251.4519781930864 \tValor real:253\n",
      "Predicción:255.36493512388904 \tValor real:264\n",
      "Predicción:264.56389443676755 \tValor real:285\n",
      "Predicción:267.03526494639635 \tValor real:292\n",
      "Predicción:300.33031860870346 \tValor real:347\n",
      "Predicción:308.50825180352376 \tValor real:310\n",
      "Predicción:220.07922526344942 \tValor real:213\n",
      "Predicción:187.94265066787855 \tValor real:175\n",
      "Predicción:257.56177074503853 \tValor real:251\n",
      "Predicción:333.9086651298865 \tValor real:317\n",
      "Predicción:313.51971929712033 \tValor real:310\n",
      "Predicción:237.23279341621458 \tValor real:195\n",
      "Predicción:289.6895873702127 \tValor real:222\n",
      "Predicción:223.77761580971512 \tValor real:230\n",
      "Predicción:268.2710429534299 \tValor real:294\n",
      "Predicción:224.80739989817002 \tValor real:237\n",
      "Predicción:330.6820454202822 \tValor real:331\n",
      "Predicción:214.99045882955554 \tValor real:237\n",
      "Predicción:195.6312970852442 \tValor real:207\n",
      "Predicción:214.99045882955554 \tValor real:237\n",
      "Predicción:331.5745620644974 \tValor real:340\n",
      "Predicción:363.5135297030096 \tValor real:359\n",
      "Predicción:266.48619516943774 \tValor real:274\n",
      "Predicción:404.617166790567 \tValor real:382\n",
      "Predicción:189.59023100763108 \tValor real:179\n",
      "Predicción:249.80439785333385 \tValor real:244\n",
      "Predicción:204.28118662116412 \tValor real:209\n",
      "Predicción:310.9794368087142 \tValor real:334\n",
      "Predicción:253.03083205849987 \tValor real:264\n",
      "Predicción:204.41845406540378 \tValor real:202\n",
      "Predicción:166.3868388068561 \tValor real:138\n",
      "Predicción:239.8501893404797 \tValor real:275\n",
      "Predicción:389.78894373279434 \tValor real:360\n",
      "Predicción:193.64064088711174 \tValor real:168\n",
      "Predicción:300.2703501047611 \tValor real:290\n",
      "Predicción:336.72311149789533 \tValor real:380\n",
      "Predicción:173.52622994282478 \tValor real:159\n",
      "Predicción:186.43233777236568 \tValor real:179\n",
      "Predicción:163.8467418228883 \tValor real:136\n",
      "Predicción:198.5833819063693 \tValor real:175\n",
      "Predicción:194.53297202688864 \tValor real:184\n",
      "Predicción:204.34991309550313 \tValor real:189\n",
      "Predicción:190.55128862174698 \tValor real:184\n",
      "Predicción:202.08435100001464 \tValor real:214\n",
      "Predicción:190.41402117750735 \tValor real:184\n",
      "Predicción:248.15681751358136 \tValor real:244\n",
      "Predicción:199.33844560190656 \tValor real:191\n",
      "Predicción:266.48619516943774 \tValor real:274\n",
      "Predicción:205.1049767910404 \tValor real:214\n",
      "Predicción:364.52598335510953 \tValor real:318\n",
      "Predicción:152.31367944462065 \tValor real:108\n",
      "Predicción:306.3114161823743 \tValor real:329\n",
      "Predicción:199.06391071342725 \tValor real:182\n",
      "Predicción:329.0344650805296 \tValor real:340\n",
      "Predicción:438.8045515926511 \tValor real:411\n",
      "Predicción:206.4780222423136 \tValor real:209\n",
      "Predicción:215.81424899943178 \tValor real:225\n",
      "Predicción:315.3045670811125 \tValor real:317\n",
      "Predicción:204.28118662116412 \tValor real:212\n",
      "Predicción:223.77761580971512 \tValor real:230\n",
      "Predicción:221.30624530008632 \tValor real:232\n",
      "Predicción:254.67841239825242 \tValor real:260\n",
      "Predicción:396.80019640379675 \tValor real:389\n",
      "Predicción:183.2744445371003 \tValor real:179\n",
      "Predicción:296.56320158809876 \tValor real:292\n",
      "Predicción:236.55502866097464 \tValor real:267\n",
      "Predicción:253.03083205849987 \tValor real:262\n",
      "Predicción:334.25174098826653 \tValor real:380\n",
      "Predicción:315.5103754952528 \tValor real:338\n",
      "Predicción:257.9050321078568 \tValor real:253\n",
      "Predicción:219.10940967893686 \tValor real:235\n",
      "Predicción:305.89942834521696 \tValor real:322\n",
      "Predicción:271.56620363293496 \tValor real:290\n",
      "Predicción:315.64764293949247 \tValor real:336\n",
      "Predicción:209.77318292181866 \tValor real:216\n",
      "Predicción:410.05776705323757 \tValor real:421\n",
      "Predicción:315.09857316253385 \tValor real:336\n",
      "Predicción:344.6864783081786 \tValor real:384\n",
      "Predicción:265.31914363674315 \tValor real:281\n",
      "Predicción:344.75520478251764 \tValor real:366\n",
      "Predicción:262.98504057135403 \tValor real:271\n",
      "Predicción:265.7996724438011 \tValor real:276\n",
      "Predicción:218.83487479045755 \tValor real:235\n",
      "Predicción:289.6895873702127 \tValor real:222\n",
      "Predicción:171.32957982611367 \tValor real:145\n",
      "Predicción:216.63803916930806 \tValor real:165\n",
      "Predicción:215.05918530389454 \tValor real:223\n",
      "Predicción:188.21718555635786 \tValor real:184\n",
      "Predicción:306.1653907677379 \tValor real:259\n",
      "Predicción:269.09483312330616 \tValor real:283\n",
      "Predicción:314.40329246650055 \tValor real:272\n",
      "Predicción:273.76303925408445 \tValor real:297\n",
      "Predicción:207.57634730066917 \tValor real:216\n",
      "Predicción:215.20521071853085 \tValor real:189\n",
      "Predicción:306.4488691310523 \tValor real:283\n",
      "Predicción:217.5305558135233 \tValor real:225\n",
      "Predicción:285.3046740983104 \tValor real:281\n",
      "Predicción:267.92778159061163 \tValor real:288\n",
      "Predicción:190.55128862174698 \tValor real:184\n",
      "Predicción:205.92876696091668 \tValor real:200\n",
      "Predicción:213.55763037877836 \tValor real:175\n",
      "Predicción:334.25174098826653 \tValor real:380\n",
      "Predicción:264.4953534668669 \tValor real:269\n",
      "Predicción:196.0432849224015 \tValor real:184\n",
      "Predicción:380.74458230051044 \tValor real:368\n",
      "Predicción:256.25745176810426 \tValor real:248\n",
      "Predicción:310.56781998043357 \tValor real:294\n",
      "Predicción:256.7379805751622 \tValor real:251\n",
      "Predicción:405.71567735336095 \tValor real:354\n",
      "Predicción:244.79293035973728 \tValor real:281\n",
      "Predicción:184.92202487685282 \tValor real:182\n",
      "Predicción:296.56320158809876 \tValor real:292\n",
      "Predicción:269.8500823232818 \tValor real:271\n",
      "Predicción:309.3320419734 \tValor real:306\n",
      "Predicción:270.26188465600075 \tValor real:290\n",
      "Predicción:209.22392764042172 \tValor real:216\n",
      "Predicción:260.03314125466727 \tValor real:258\n",
      "Predicción:212.24455343144743 \tValor real:212\n",
      "Predicción:315.3045670811125 \tValor real:317\n",
      "Predicción:320.79656338176704 \tValor real:308\n",
      "Predicción:310.2245586176153 \tValor real:301\n",
      "Predicción:190.55128862174698 \tValor real:184\n",
      "Predicción:257.14978290788116 \tValor real:278\n",
      "Predicción:250.6281880232101 \tValor real:244\n",
      "Predicción:277.0581999335895 \tValor real:292\n",
      "Predicción:239.02639917060344 \tValor real:235\n",
      "Predicción:187.25612794224193 \tValor real:175\n",
      "Predicción:209.77318292181866 \tValor real:216\n",
      "Predicción:225.021966282707 \tValor real:224\n",
      "Predicción:257.56177074503853 \tValor real:248\n",
      "Predicción:183.2744445371003 \tValor real:173\n",
      "Predicción:229.54414699884893 \tValor real:255\n",
      "Predicción:186.15780288388638 \tValor real:161\n",
      "Predicción:261.2687337572625 \tValor real:285\n",
      "Predicción:334.5950023510848 \tValor real:368\n",
      "Predicción:222.1300354699626 \tValor real:237\n",
      "Predicción:308.6455192477634 \tValor real:315\n",
      "Predicción:205.92876696091668 \tValor real:209\n",
      "Predicción:262.98504057135403 \tValor real:278\n",
      "Predicción:265.7996724438011 \tValor real:274\n",
      "Predicción:191.2378113473836 \tValor real:182\n",
      "Predicción:210.04771781029797 \tValor real:218\n",
      "Predicción:373.8622101122277 \tValor real:350\n",
      "Predicción:334.25174098826653 \tValor real:380\n",
      "Predicción:225.4251961494676 \tValor real:244\n",
      "Predicción:320.3160345747091 \tValor real:304\n",
      "Predicción:349.69776029733686 \tValor real:280\n",
      "Predicción:182.45065436722402 \tValor real:168\n",
      "Predicción:216.63803916930806 \tValor real:228\n",
      "Predicción:233.8690917668089 \tValor real:271\n",
      "Predicción:197.0043425365174 \tValor real:191\n",
      "Predicción:207.64507377500817 \tValor real:207\n",
      "Predicción:273.76303925408445 \tValor real:297\n",
      "Predicción:381.1563846332294 \tValor real:380\n",
      "Predicción:238.2026090007272 \tValor real:221\n",
      "Predicción:252.20704188862362 \tValor real:258\n",
      "Predicción:202.6336062814116 \tValor real:214\n",
      "Predicción:174.35002011270106 \tValor real:159\n",
      "Predicción:211.42076326157118 \tValor real:209\n",
      "Predicción:260.44494358738626 \tValor real:283\n",
      "Predicción:304.6638358426217 \tValor real:320\n",
      "Predicción:364.52598335510953 \tValor real:320\n",
      "Predicción:205.92876696091668 \tValor real:200\n",
      "Predicción:207.57634730066917 \tValor real:209\n",
      "Predicción:187.25612794224193 \tValor real:179\n",
      "Predicción:205.92876696091668 \tValor real:200\n",
      "Predicción:377.0888298218321 \tValor real:334\n",
      "Predicción:328.2794013849924 \tValor real:324\n",
      "Predicción:182.79391573004233 \tValor real:177\n",
      "Predicción:201.05475241599808 \tValor real:202\n",
      "Predicción:235.58521307646205 \tValor real:283\n",
      "Predicción:259.209351084791 \tValor real:255\n",
      "Predicción:354.3659664281151 \tValor real:421\n",
      "Predicción:248.15681751358136 \tValor real:230\n",
      "Predicción:302.0464399183566 \tValor real:251\n",
      "Predicción:200.9860259416591 \tValor real:198\n",
      "Predicción:296.56320158809876 \tValor real:292\n",
      "Predicción:242.32155985010849 \tValor real:237\n",
      "Predicción:183.2744445371003 \tValor real:179\n",
      "Predicción:329.10319155486866 \tValor real:329\n",
      "Predicción:197.69086526215403 \tValor real:186\n",
      "Predicción:372.0775478326739 \tValor real:432\n",
      "Predicción:272.3899938028112 \tValor real:301\n",
      "Predicción:254.26661006553348 \tValor real:242\n",
      "Predicción:360.6130264243069 \tValor real:294\n",
      "Predicción:218.01108462058127 \tValor real:230\n",
      "Predicción:315.3045670811125 \tValor real:317\n",
      "Predicción:362.05461284548073 \tValor real:315\n",
      "Predicción:360.6130264243069 \tValor real:294\n",
      "Predicción:241.5664961545712 \tValor real:221\n",
      "Predicción:235.52524457251974 \tValor real:228\n",
      "Predicción:315.5103754952528 \tValor real:338\n",
      "Predicción:203.52612292562688 \tValor real:186\n",
      "Predicción:191.2378113473836 \tValor real:182\n",
      "Predicción:219.17813615327586 \tValor real:228\n",
      "Predicción:320.79656338176704 \tValor real:308\n",
      "Predicción:391.9170528796048 \tValor real:362\n",
      "Predicción:212.24455343144743 \tValor real:212\n",
      "Predicción:195.21949475252526 \tValor real:184\n",
      "Predicción:306.8608569682096 \tValor real:258\n",
      "Predicción:192.19886896149953 \tValor real:196\n",
      "Predicción:202.6336062814116 \tValor real:193\n",
      "Predicción:187.25612794224193 \tValor real:186\n",
      "Predicción:241.49776968023224 \tValor real:237\n",
      "Predicción:195.28822122686427 \tValor real:168\n",
      "Predicción:303.7715047028448 \tValor real:292\n",
      "Predicción:262.98504057135403 \tValor real:274\n",
      "Predicción:331.78037047863774 \tValor real:366\n",
      "Predicción:266.48619516943774 \tValor real:274\n",
      "Predicción:353.1301884210815 \tValor real:419\n",
      "Predicción:258.72882227773306 \tValor real:255\n",
      "Predicción:373.7251281724264 \tValor real:435\n",
      "Predicción:229.8874083616672 \tValor real:258\n",
      "Predicción:224.60140597959136 \tValor real:251\n",
      "Predicción:204.55572150964343 \tValor real:218\n",
      "Predicción:285.43336907659176 \tValor real:322\n",
      "Predicción:356.28826716078527 \tValor real:382\n",
      "Predicción:224.5370584904507 \tValor real:216\n",
      "Predicción:193.02265913137578 \tValor real:200\n",
      "Predicción:214.1666686596793 \tValor real:221\n",
      "Predicción:205.1737032653794 \tValor real:198\n",
      "Predicción:197.0043425365174 \tValor real:191\n",
      "Predicción:253.92334870271515 \tValor real:260\n",
      "Predicción:377.4494216210054 \tValor real:359\n",
      "Predicción:257.9050321078568 \tValor real:255\n",
      "Predicción:179.49875505053728 \tValor real:168\n",
      "Predicción:218.01108462058127 \tValor real:218\n",
      "Predicción:210.04771781029797 \tValor real:221\n",
      "Predicción:273.21378397268745 \tValor real:308\n",
      "Predicción:351.482608081329 \tValor real:414\n",
      "Predicción:270.7424134630587 \tValor real:285\n",
      "Predicción:265.3876846066438 \tValor real:281\n",
      "Predicción:177.02738454090849 \tValor real:159\n",
      "Predicción:221.51223921866497 \tValor real:235\n",
      "Predicción:185.6085476024894 \tValor real:175\n",
      "Predicción:218.83487479045755 \tValor real:230\n",
      "Predicción:309.3320419734 \tValor real:304\n",
      "Predicción:263.67156329699066 \tValor real:267\n",
      "Predicción:162.40077641651612 \tValor real:147\n",
      "Predicción:222.88947815069818 \tValor real:218\n",
      "Predicción:231.19172733860145 \tValor real:260\n",
      "Predicción:179.29294663639698 \tValor real:145\n",
      "Predicción:248.15681751358136 \tValor real:235\n",
      "Predicción:205.92876696091668 \tValor real:207\n",
      "Predicción:186.43233777236568 \tValor real:179\n",
      "Predicción:191.44380526596225 \tValor real:194\n",
      "Predicción:260.8569314245436 \tValor real:262\n",
      "Predicción:440.4521319324036 \tValor real:413\n",
      "Predicción:200.16223577178283 \tValor real:202\n",
      "Predicción:197.96540015063334 \tValor real:207\n",
      "Predicción:377.0888298218321 \tValor real:334\n",
      "Predicción:251.4519781930864 \tValor real:251\n",
      "Predicción:182.86264220438133 \tValor real:181\n",
      "Predicción:204.00665173268482 \tValor real:189\n",
      "Predicción:260.03314125466727 \tValor real:258\n",
      "Predicción:249.80439785333385 \tValor real:237\n",
      "Predicción:197.62213878781503 \tValor real:196\n",
      "Predicción:186.15780288388638 \tValor real:163\n",
      "Predicción:221.30624530008632 \tValor real:255\n",
      "Predicción:250.55946154887113 \tValor real:294\n",
      "Predicción:265.3876846066438 \tValor real:285\n",
      "Predicción:256.3259927380049 \tValor real:274\n",
      "Predicción:192.19886896149953 \tValor real:196\n",
      "Predicción:252.61902972578093 \tValor real:235\n",
      "Predicción:215.81424899943178 \tValor real:162\n",
      "Predicción:217.67658122815965 \tValor real:172\n",
      "Predicción:219.17813615327586 \tValor real:228\n",
      "Predicción:262.0239829572381 \tValor real:265\n",
      "Predicción:258.2482934706751 \tValor real:253\n",
      "Predicción:262.0239829572381 \tValor real:264\n",
      "Predicción:201.80981611153535 \tValor real:196\n",
      "Predicción:212.51908831992674 \tValor real:230\n",
      "Predicción:362.05461284548073 \tValor real:315\n",
      "Predicción:211.42076326157118 \tValor real:202\n",
      "Predicción:187.25612794224193 \tValor real:179\n",
      "Predicción:262.98504057135403 \tValor real:271\n"
     ]
    }
   ],
   "source": [
    "yhat = regresion_lineal.predict(X_test)\n",
    "resultados_predichos = []\n",
    "resultados_reales = []\n",
    "for i, j in zip(yhat, y_test):\n",
    "    resultados_predichos.append(i)\n",
    "    resultados_reales.append(j)\n",
    "    print(f\"Predicción:{i} \\tValor real:{j}\")"
   ]
  },
  {
   "cell_type": "markdown",
   "id": "fca25e53",
   "metadata": {},
   "source": [
    "Ahora convertimos "
   ]
  },
  {
   "cell_type": "code",
   "execution_count": 15,
   "id": "fae081af",
   "metadata": {},
   "outputs": [],
   "source": [
    "df_1 = pd.DataFrame(columns = [resultados_predichos,resultados_reales])"
   ]
  },
  {
   "cell_type": "code",
   "execution_count": 16,
   "id": "85463e14",
   "metadata": {},
   "outputs": [],
   "source": [
    "df2 = df_1.T"
   ]
  },
  {
   "cell_type": "code",
   "execution_count": 17,
   "id": "d40380fd",
   "metadata": {},
   "outputs": [],
   "source": [
    "df3 = df2.reset_index()"
   ]
  },
  {
   "cell_type": "code",
   "execution_count": 18,
   "id": "fa7296e2",
   "metadata": {},
   "outputs": [],
   "source": [
    "df4 = df3.rename(columns={\"level_0\":\"Predicción\",\"level_1\":\"Valor Real\"})"
   ]
  },
  {
   "cell_type": "code",
   "execution_count": 19,
   "id": "9dc2e477",
   "metadata": {},
   "outputs": [
    {
     "data": {
      "text/html": [
       "        <script type=\"text/javascript\">\n",
       "        window.PlotlyConfig = {MathJaxConfig: 'local'};\n",
       "        if (window.MathJax && window.MathJax.Hub && window.MathJax.Hub.Config) {window.MathJax.Hub.Config({SVG: {font: \"STIX-Web\"}});}\n",
       "        if (typeof require !== 'undefined') {\n",
       "        require.undef(\"plotly\");\n",
       "        requirejs.config({\n",
       "            paths: {\n",
       "                'plotly': ['https://cdn.plot.ly/plotly-2.12.1.min']\n",
       "            }\n",
       "        });\n",
       "        require(['plotly'], function(Plotly) {\n",
       "            window._Plotly = Plotly;\n",
       "        });\n",
       "        }\n",
       "        </script>\n",
       "        "
      ]
     },
     "metadata": {},
     "output_type": "display_data"
    }
   ],
   "source": [
    "import matplotlib.pyplot as plt\n",
    "import seaborn as sns\n",
    "import folium\n",
    "import cufflinks as cf\n",
    "from IPython.display import display,HTML\n",
    "import plotly.express as px"
   ]
  },
  {
   "cell_type": "code",
   "execution_count": 20,
   "id": "2254b77c",
   "metadata": {
    "scrolled": true
   },
   "outputs": [
    {
     "data": {
      "application/vnd.plotly.v1+json": {
       "config": {
        "linkText": "Export to plot.ly",
        "plotlyServerURL": "https://plot.ly",
        "showLink": true
       },
       "data": [
        {
         "line": {
          "color": "rgba(255, 153, 51, 1.0)",
          "dash": "solid",
          "shape": "linear",
          "width": 1.3
         },
         "mode": "lines",
         "name": "Predicción",
         "text": "",
         "type": "scatter",
         "x": [
          0,
          1,
          2,
          3,
          4,
          5,
          6,
          7,
          8,
          9,
          10,
          11,
          12,
          13,
          14,
          15,
          16,
          17,
          18,
          19,
          20,
          21,
          22,
          23,
          24,
          25,
          26,
          27,
          28,
          29,
          30,
          31,
          32,
          33,
          34,
          35,
          36,
          37,
          38,
          39,
          40,
          41,
          42,
          43,
          44,
          45,
          46,
          47,
          48,
          49,
          50,
          51,
          52,
          53,
          54,
          55,
          56,
          57,
          58,
          59,
          60,
          61,
          62,
          63,
          64,
          65,
          66,
          67,
          68,
          69,
          70,
          71,
          72,
          73,
          74,
          75,
          76,
          77,
          78,
          79,
          80,
          81,
          82,
          83,
          84,
          85,
          86,
          87,
          88,
          89,
          90,
          91,
          92,
          93,
          94,
          95,
          96,
          97,
          98,
          99,
          100,
          101,
          102,
          103,
          104,
          105,
          106,
          107,
          108,
          109,
          110,
          111,
          112,
          113,
          114,
          115,
          116,
          117,
          118,
          119,
          120,
          121,
          122,
          123,
          124,
          125,
          126,
          127,
          128,
          129,
          130,
          131,
          132,
          133,
          134,
          135,
          136,
          137,
          138,
          139,
          140,
          141,
          142,
          143,
          144,
          145,
          146,
          147,
          148,
          149,
          150,
          151,
          152,
          153,
          154,
          155,
          156,
          157,
          158,
          159,
          160,
          161,
          162,
          163,
          164,
          165,
          166,
          167,
          168,
          169,
          170,
          171,
          172,
          173,
          174,
          175,
          176,
          177,
          178,
          179,
          180,
          181,
          182,
          183,
          184,
          185,
          186,
          187,
          188,
          189,
          190,
          191,
          192,
          193,
          194,
          195,
          196,
          197,
          198,
          199,
          200,
          201,
          202,
          203,
          204,
          205,
          206,
          207,
          208,
          209,
          210,
          211,
          212,
          213,
          214,
          215,
          216,
          217,
          218,
          219,
          220,
          221,
          222,
          223,
          224,
          225,
          226,
          227,
          228,
          229,
          230,
          231,
          232,
          233,
          234,
          235,
          236,
          237,
          238,
          239,
          240,
          241,
          242,
          243,
          244,
          245,
          246,
          247,
          248,
          249,
          250,
          251,
          252,
          253,
          254,
          255,
          256,
          257,
          258,
          259,
          260,
          261,
          262,
          263,
          264,
          265,
          266,
          267,
          268,
          269,
          270,
          271,
          272,
          273,
          274,
          275,
          276,
          277,
          278,
          279,
          280,
          281,
          282,
          283,
          284,
          285,
          286,
          287,
          288,
          289,
          290,
          291,
          292,
          293,
          294,
          295,
          296,
          297,
          298,
          299,
          300,
          301,
          302,
          303,
          304,
          305,
          306,
          307,
          308,
          309,
          310,
          311,
          312,
          313,
          314,
          315,
          316,
          317,
          318,
          319,
          320,
          321,
          322,
          323,
          324,
          325,
          326,
          327,
          328,
          329,
          330,
          331,
          332,
          333,
          334,
          335,
          336,
          337,
          338,
          339,
          340,
          341,
          342,
          343,
          344,
          345,
          346,
          347,
          348,
          349,
          350,
          351,
          352,
          353,
          354,
          355,
          356,
          357,
          358,
          359,
          360,
          361,
          362,
          363,
          364,
          365,
          366,
          367,
          368,
          369,
          370,
          371,
          372,
          373,
          374,
          375,
          376,
          377,
          378,
          379,
          380,
          381,
          382,
          383,
          384,
          385,
          386,
          387,
          388,
          389,
          390,
          391,
          392,
          393,
          394,
          395,
          396,
          397,
          398,
          399,
          400,
          401,
          402,
          403,
          404,
          405,
          406,
          407,
          408,
          409,
          410,
          411,
          412,
          413,
          414,
          415,
          416,
          417,
          418,
          419,
          420,
          421,
          422,
          423,
          424,
          425,
          426
         ],
         "y": [
          303.3595168656875,
          243.21407649432376,
          275.68515448231625,
          238.2026090007272,
          206.75255713079292,
          247.26430086936608,
          306.98918093761415,
          277.88199010346574,
          308.50825180352376,
          309.46055144724295,
          291.33716770996523,
          395.0922765512252,
          253.7173547841365,
          253.0995585328389,
          261.6807215944198,
          254.7471388725914,
          210.32225269877725,
          254.26661006553348,
          190.55128862174698,
          306.2428752124736,
          316.74615350228635,
          208.53740491478507,
          257.01251546364153,
          251.31471074884672,
          261.2687337572625,
          196.18055236664117,
          204.28118662116412,
          185.6085476024894,
          309.400768447739,
          249.5984039347552,
          386.4937830532893,
          205.65423207243737,
          207.71361474490882,
          328.27921588055403,
          240.67397951035593,
          286.05992329828604,
          279.5381429091766,
          391.9170528796048,
          199.33844560190656,
          198.5833819063693,
          174.89927539409803,
          187.25612794224193,
          184.92202487685282,
          212.58781479426574,
          277.88199010346574,
          197.14160998075707,
          244.79293035973728,
          257.14978290788116,
          195.21949475252526,
          364.3972883768282,
          317.570129176601,
          274.86136431244,
          213.342878489803,
          265.31914363674315,
          269.5066354560251,
          315.3045670811125,
          380.3839905013371,
          322.44414372151954,
          186.98159305376265,
          276.44040368229184,
          306.7232185150932,
          269.8500823232818,
          291.6204605688412,
          256.7379805751622,
          192.19886896149953,
          246.16597581101053,
          188.21718555635786,
          303.70277822850585,
          253.85462222837617,
          263.67156329699066,
          349.69776029733686,
          193.57191441277274,
          259.689879891849,
          209.22392764042172,
          214.99045882955554,
          293.808538219594,
          336.72311149789533,
          348.87415563189893,
          331.5745620644974,
          257.2185093822202,
          199.88770088330352,
          188.7664408377548,
          228.9263507475513,
          270.39915210024037,
          192.19886896149953,
          241.49776968023224,
          220.07922526344942,
          186.15780288388638,
          330.6820454202822,
          187.8053832236389,
          228.93492321350965,
          345.3040890550378,
          216.02900088840715,
          181.35232930886846,
          187.8053832236389,
          202.6336062814116,
          217.187294450705,
          221.79553207754094,
          273.21378397268745,
          334.45773490684513,
          339.81246376326004,
          210.11644428463697,
          273.21378397268745,
          221.30624530008632,
          288.86579720033643,
          170.3683367075594,
          240.67397951035593,
          207.57634730066917,
          216.36350428082875,
          211.6952981500505,
          192.67939776855746,
          290.17011617727064,
          263.3283019341723,
          235.52524457251974,
          314.54931788113686,
          257.56177074503853,
          267.79051414637195,
          351.482608081329,
          267.44725278355367,
          197.96540015063334,
          251.4519781930864,
          168.78948284214587,
          223.98360972829374,
          163.2289455715907,
          242.32155985010849,
          208.94939275194238,
          271.56620363293496,
          186.15780288388638,
          318.32519287213825,
          204.28118662116412,
          192.19886896149953,
          207.0270920192722,
          373.7251281724264,
          188.7664408377548,
          275.34189311949797,
          250.55946154887113,
          252.20704188862362,
          309.400768447739,
          205.92876696091668,
          294.3663659669493,
          316.6776125323857,
          259.689879891849,
          190.55128862174698,
          256.7379805751622,
          183.2744445371003,
          254.7471388725914,
          313.5795022966243,
          156.63862421258062,
          324.220233535115,
          342.9787439600454,
          214.99045882955554,
          251.4519781930864,
          255.36493512388904,
          264.56389443676755,
          267.03526494639635,
          300.33031860870346,
          308.50825180352376,
          220.07922526344942,
          187.94265066787855,
          257.56177074503853,
          333.9086651298865,
          313.51971929712033,
          237.23279341621458,
          289.6895873702127,
          223.77761580971512,
          268.2710429534299,
          224.80739989817002,
          330.6820454202822,
          214.99045882955554,
          195.6312970852442,
          214.99045882955554,
          331.5745620644974,
          363.5135297030096,
          266.48619516943774,
          404.617166790567,
          189.59023100763108,
          249.80439785333385,
          204.28118662116412,
          310.9794368087142,
          253.03083205849987,
          204.41845406540378,
          166.3868388068561,
          239.8501893404797,
          389.78894373279434,
          193.64064088711174,
          300.2703501047611,
          336.72311149789533,
          173.52622994282478,
          186.43233777236568,
          163.8467418228883,
          198.5833819063693,
          194.53297202688864,
          204.34991309550313,
          190.55128862174698,
          202.08435100001464,
          190.41402117750735,
          248.15681751358136,
          199.33844560190656,
          266.48619516943774,
          205.1049767910404,
          364.52598335510953,
          152.31367944462065,
          306.3114161823743,
          199.06391071342725,
          329.0344650805296,
          438.8045515926511,
          206.4780222423136,
          215.81424899943178,
          315.3045670811125,
          204.28118662116412,
          223.77761580971512,
          221.30624530008632,
          254.67841239825242,
          396.80019640379675,
          183.2744445371003,
          296.56320158809876,
          236.55502866097464,
          253.03083205849987,
          334.25174098826653,
          315.5103754952528,
          257.9050321078568,
          219.10940967893686,
          305.89942834521696,
          271.56620363293496,
          315.64764293949247,
          209.77318292181866,
          410.05776705323757,
          315.09857316253385,
          344.6864783081786,
          265.31914363674315,
          344.75520478251764,
          262.98504057135403,
          265.7996724438011,
          218.83487479045755,
          289.6895873702127,
          171.32957982611367,
          216.63803916930806,
          215.05918530389454,
          188.21718555635786,
          306.1653907677379,
          269.09483312330616,
          314.40329246650055,
          273.76303925408445,
          207.57634730066917,
          215.20521071853085,
          306.4488691310523,
          217.5305558135233,
          285.3046740983104,
          267.92778159061163,
          190.55128862174698,
          205.92876696091668,
          213.55763037877836,
          334.25174098826653,
          264.4953534668669,
          196.0432849224015,
          380.74458230051044,
          256.25745176810426,
          310.56781998043357,
          256.7379805751622,
          405.71567735336095,
          244.79293035973728,
          184.92202487685282,
          296.56320158809876,
          269.8500823232818,
          309.3320419734,
          270.26188465600075,
          209.22392764042172,
          260.03314125466727,
          212.24455343144743,
          315.3045670811125,
          320.79656338176704,
          310.2245586176153,
          190.55128862174698,
          257.14978290788116,
          250.6281880232101,
          277.0581999335895,
          239.02639917060344,
          187.25612794224193,
          209.77318292181866,
          225.021966282707,
          257.56177074503853,
          183.2744445371003,
          229.54414699884893,
          186.15780288388638,
          261.2687337572625,
          334.5950023510848,
          222.1300354699626,
          308.6455192477634,
          205.92876696091668,
          262.98504057135403,
          265.7996724438011,
          191.2378113473836,
          210.04771781029797,
          373.8622101122277,
          334.25174098826653,
          225.4251961494676,
          320.3160345747091,
          349.69776029733686,
          182.45065436722402,
          216.63803916930806,
          233.8690917668089,
          197.0043425365174,
          207.64507377500817,
          273.76303925408445,
          381.1563846332294,
          238.2026090007272,
          252.20704188862362,
          202.6336062814116,
          174.35002011270106,
          211.42076326157118,
          260.44494358738626,
          304.6638358426217,
          364.52598335510953,
          205.92876696091668,
          207.57634730066917,
          187.25612794224193,
          205.92876696091668,
          377.0888298218321,
          328.2794013849924,
          182.79391573004233,
          201.05475241599808,
          235.58521307646205,
          259.209351084791,
          354.3659664281151,
          248.15681751358136,
          302.0464399183566,
          200.9860259416591,
          296.56320158809876,
          242.32155985010849,
          183.2744445371003,
          329.10319155486866,
          197.69086526215403,
          372.0775478326739,
          272.3899938028112,
          254.26661006553348,
          360.6130264243069,
          218.01108462058127,
          315.3045670811125,
          362.05461284548073,
          360.6130264243069,
          241.5664961545712,
          235.52524457251974,
          315.5103754952528,
          203.52612292562688,
          191.2378113473836,
          219.17813615327586,
          320.79656338176704,
          391.9170528796048,
          212.24455343144743,
          195.21949475252526,
          306.8608569682096,
          192.19886896149953,
          202.6336062814116,
          187.25612794224193,
          241.49776968023224,
          195.28822122686427,
          303.7715047028448,
          262.98504057135403,
          331.78037047863774,
          266.48619516943774,
          353.1301884210815,
          258.72882227773306,
          373.7251281724264,
          229.8874083616672,
          224.60140597959136,
          204.55572150964343,
          285.43336907659176,
          356.28826716078527,
          224.5370584904507,
          193.02265913137578,
          214.1666686596793,
          205.1737032653794,
          197.0043425365174,
          253.92334870271515,
          377.4494216210054,
          257.9050321078568,
          179.49875505053728,
          218.01108462058127,
          210.04771781029797,
          273.21378397268745,
          351.482608081329,
          270.7424134630587,
          265.3876846066438,
          177.02738454090849,
          221.51223921866497,
          185.6085476024894,
          218.83487479045755,
          309.3320419734,
          263.67156329699066,
          162.40077641651612,
          222.88947815069818,
          231.19172733860145,
          179.29294663639698,
          248.15681751358136,
          205.92876696091668,
          186.43233777236568,
          191.44380526596225,
          260.8569314245436,
          440.4521319324036,
          200.16223577178283,
          197.96540015063334,
          377.0888298218321,
          251.4519781930864,
          182.86264220438133,
          204.00665173268482,
          260.03314125466727,
          249.80439785333385,
          197.62213878781503,
          186.15780288388638,
          221.30624530008632,
          250.55946154887113,
          265.3876846066438,
          256.3259927380049,
          192.19886896149953,
          252.61902972578093,
          215.81424899943178,
          217.67658122815965,
          219.17813615327586,
          262.0239829572381,
          258.2482934706751,
          262.0239829572381,
          201.80981611153535,
          212.51908831992674,
          362.05461284548073,
          211.42076326157118,
          187.25612794224193,
          262.98504057135403
         ]
        },
        {
         "line": {
          "color": "rgba(55, 128, 191, 1.0)",
          "dash": "solid",
          "shape": "linear",
          "width": 1.3
         },
         "mode": "lines",
         "name": "Valor Real",
         "text": "",
         "type": "scatter",
         "x": [
          0,
          1,
          2,
          3,
          4,
          5,
          6,
          7,
          8,
          9,
          10,
          11,
          12,
          13,
          14,
          15,
          16,
          17,
          18,
          19,
          20,
          21,
          22,
          23,
          24,
          25,
          26,
          27,
          28,
          29,
          30,
          31,
          32,
          33,
          34,
          35,
          36,
          37,
          38,
          39,
          40,
          41,
          42,
          43,
          44,
          45,
          46,
          47,
          48,
          49,
          50,
          51,
          52,
          53,
          54,
          55,
          56,
          57,
          58,
          59,
          60,
          61,
          62,
          63,
          64,
          65,
          66,
          67,
          68,
          69,
          70,
          71,
          72,
          73,
          74,
          75,
          76,
          77,
          78,
          79,
          80,
          81,
          82,
          83,
          84,
          85,
          86,
          87,
          88,
          89,
          90,
          91,
          92,
          93,
          94,
          95,
          96,
          97,
          98,
          99,
          100,
          101,
          102,
          103,
          104,
          105,
          106,
          107,
          108,
          109,
          110,
          111,
          112,
          113,
          114,
          115,
          116,
          117,
          118,
          119,
          120,
          121,
          122,
          123,
          124,
          125,
          126,
          127,
          128,
          129,
          130,
          131,
          132,
          133,
          134,
          135,
          136,
          137,
          138,
          139,
          140,
          141,
          142,
          143,
          144,
          145,
          146,
          147,
          148,
          149,
          150,
          151,
          152,
          153,
          154,
          155,
          156,
          157,
          158,
          159,
          160,
          161,
          162,
          163,
          164,
          165,
          166,
          167,
          168,
          169,
          170,
          171,
          172,
          173,
          174,
          175,
          176,
          177,
          178,
          179,
          180,
          181,
          182,
          183,
          184,
          185,
          186,
          187,
          188,
          189,
          190,
          191,
          192,
          193,
          194,
          195,
          196,
          197,
          198,
          199,
          200,
          201,
          202,
          203,
          204,
          205,
          206,
          207,
          208,
          209,
          210,
          211,
          212,
          213,
          214,
          215,
          216,
          217,
          218,
          219,
          220,
          221,
          222,
          223,
          224,
          225,
          226,
          227,
          228,
          229,
          230,
          231,
          232,
          233,
          234,
          235,
          236,
          237,
          238,
          239,
          240,
          241,
          242,
          243,
          244,
          245,
          246,
          247,
          248,
          249,
          250,
          251,
          252,
          253,
          254,
          255,
          256,
          257,
          258,
          259,
          260,
          261,
          262,
          263,
          264,
          265,
          266,
          267,
          268,
          269,
          270,
          271,
          272,
          273,
          274,
          275,
          276,
          277,
          278,
          279,
          280,
          281,
          282,
          283,
          284,
          285,
          286,
          287,
          288,
          289,
          290,
          291,
          292,
          293,
          294,
          295,
          296,
          297,
          298,
          299,
          300,
          301,
          302,
          303,
          304,
          305,
          306,
          307,
          308,
          309,
          310,
          311,
          312,
          313,
          314,
          315,
          316,
          317,
          318,
          319,
          320,
          321,
          322,
          323,
          324,
          325,
          326,
          327,
          328,
          329,
          330,
          331,
          332,
          333,
          334,
          335,
          336,
          337,
          338,
          339,
          340,
          341,
          342,
          343,
          344,
          345,
          346,
          347,
          348,
          349,
          350,
          351,
          352,
          353,
          354,
          355,
          356,
          357,
          358,
          359,
          360,
          361,
          362,
          363,
          364,
          365,
          366,
          367,
          368,
          369,
          370,
          371,
          372,
          373,
          374,
          375,
          376,
          377,
          378,
          379,
          380,
          381,
          382,
          383,
          384,
          385,
          386,
          387,
          388,
          389,
          390,
          391,
          392,
          393,
          394,
          395,
          396,
          397,
          398,
          399,
          400,
          401,
          402,
          403,
          404,
          405,
          406,
          407,
          408,
          409,
          410,
          411,
          412,
          413,
          414,
          415,
          416,
          417,
          418,
          419,
          420,
          421,
          422,
          423,
          424,
          425,
          426
         ],
         "y": [
          304,
          221,
          294,
          221,
          207,
          246,
          259,
          310,
          310,
          264,
          230,
          393,
          258,
          246,
          269,
          255,
          232,
          242,
          184,
          299,
          334,
          216,
          267,
          235,
          285,
          196,
          209,
          175,
          297,
          248,
          346,
          196,
          216,
          354,
          228,
          264,
          260,
          362,
          196,
          196,
          152,
          177,
          182,
          207,
          301,
          207,
          244,
          278,
          179,
          400,
          292,
          308,
          225,
          281,
          292,
          317,
          344,
          324,
          177,
          290,
          320,
          271,
          281,
          251,
          191,
          237,
          179,
          294,
          267,
          269,
          280,
          189,
          264,
          216,
          230,
          237,
          380,
          377,
          340,
          251,
          186,
          182,
          251,
          294,
          191,
          278,
          191,
          161,
          340,
          166,
          212,
          407,
          175,
          156,
          197,
          193,
          225,
          189,
          294,
          359,
          347,
          207,
          290,
          255,
          229,
          152,
          228,
          209,
          225,
          223,
          186,
          229,
          276,
          228,
          347,
          260,
          283,
          414,
          294,
          207,
          253,
          145,
          235,
          129,
          232,
          200,
          290,
          184,
          294,
          202,
          196,
          223,
          435,
          177,
          308,
          258,
          258,
          297,
          200,
          290,
          301,
          265,
          184,
          251,
          179,
          255,
          269,
          110,
          285,
          361,
          235,
          253,
          264,
          285,
          292,
          347,
          310,
          213,
          175,
          251,
          317,
          310,
          195,
          222,
          230,
          294,
          237,
          331,
          237,
          207,
          237,
          340,
          359,
          274,
          382,
          179,
          244,
          209,
          334,
          264,
          202,
          138,
          275,
          360,
          168,
          290,
          380,
          159,
          179,
          136,
          175,
          184,
          189,
          184,
          214,
          184,
          244,
          191,
          274,
          214,
          318,
          108,
          329,
          182,
          340,
          411,
          209,
          225,
          317,
          212,
          230,
          232,
          260,
          389,
          179,
          292,
          267,
          262,
          380,
          338,
          253,
          235,
          322,
          290,
          336,
          216,
          421,
          336,
          384,
          281,
          366,
          271,
          276,
          235,
          222,
          145,
          165,
          223,
          184,
          259,
          283,
          272,
          297,
          216,
          189,
          283,
          225,
          281,
          288,
          184,
          200,
          175,
          380,
          269,
          184,
          368,
          248,
          294,
          251,
          354,
          281,
          182,
          292,
          271,
          306,
          290,
          216,
          258,
          212,
          317,
          308,
          301,
          184,
          278,
          244,
          292,
          235,
          175,
          216,
          224,
          248,
          173,
          255,
          161,
          285,
          368,
          237,
          315,
          209,
          278,
          274,
          182,
          218,
          350,
          380,
          244,
          304,
          280,
          168,
          228,
          271,
          191,
          207,
          297,
          380,
          221,
          258,
          214,
          159,
          209,
          283,
          320,
          320,
          200,
          209,
          179,
          200,
          334,
          324,
          177,
          202,
          283,
          255,
          421,
          230,
          251,
          198,
          292,
          237,
          179,
          329,
          186,
          432,
          301,
          242,
          294,
          230,
          317,
          315,
          294,
          221,
          228,
          338,
          186,
          182,
          228,
          308,
          362,
          212,
          184,
          258,
          196,
          193,
          186,
          237,
          168,
          292,
          274,
          366,
          274,
          419,
          255,
          435,
          258,
          251,
          218,
          322,
          382,
          216,
          200,
          221,
          198,
          191,
          260,
          359,
          255,
          168,
          218,
          221,
          308,
          414,
          285,
          281,
          159,
          235,
          175,
          230,
          304,
          267,
          147,
          218,
          260,
          145,
          235,
          207,
          179,
          194,
          262,
          413,
          202,
          207,
          334,
          251,
          181,
          189,
          258,
          237,
          196,
          163,
          255,
          294,
          285,
          274,
          196,
          235,
          162,
          172,
          228,
          265,
          253,
          264,
          196,
          230,
          315,
          202,
          179,
          271
         ]
        }
       ],
       "layout": {
        "legend": {
         "bgcolor": "#FFFFFF",
         "font": {
          "color": "#4D5663"
         }
        },
        "paper_bgcolor": "#FFFFFF",
        "plot_bgcolor": "#FFFFFF",
        "template": {
         "data": {
          "bar": [
           {
            "error_x": {
             "color": "#2a3f5f"
            },
            "error_y": {
             "color": "#2a3f5f"
            },
            "marker": {
             "line": {
              "color": "#E5ECF6",
              "width": 0.5
             },
             "pattern": {
              "fillmode": "overlay",
              "size": 10,
              "solidity": 0.2
             }
            },
            "type": "bar"
           }
          ],
          "barpolar": [
           {
            "marker": {
             "line": {
              "color": "#E5ECF6",
              "width": 0.5
             },
             "pattern": {
              "fillmode": "overlay",
              "size": 10,
              "solidity": 0.2
             }
            },
            "type": "barpolar"
           }
          ],
          "carpet": [
           {
            "aaxis": {
             "endlinecolor": "#2a3f5f",
             "gridcolor": "white",
             "linecolor": "white",
             "minorgridcolor": "white",
             "startlinecolor": "#2a3f5f"
            },
            "baxis": {
             "endlinecolor": "#2a3f5f",
             "gridcolor": "white",
             "linecolor": "white",
             "minorgridcolor": "white",
             "startlinecolor": "#2a3f5f"
            },
            "type": "carpet"
           }
          ],
          "choropleth": [
           {
            "colorbar": {
             "outlinewidth": 0,
             "ticks": ""
            },
            "type": "choropleth"
           }
          ],
          "contour": [
           {
            "colorbar": {
             "outlinewidth": 0,
             "ticks": ""
            },
            "colorscale": [
             [
              0,
              "#0d0887"
             ],
             [
              0.1111111111111111,
              "#46039f"
             ],
             [
              0.2222222222222222,
              "#7201a8"
             ],
             [
              0.3333333333333333,
              "#9c179e"
             ],
             [
              0.4444444444444444,
              "#bd3786"
             ],
             [
              0.5555555555555556,
              "#d8576b"
             ],
             [
              0.6666666666666666,
              "#ed7953"
             ],
             [
              0.7777777777777778,
              "#fb9f3a"
             ],
             [
              0.8888888888888888,
              "#fdca26"
             ],
             [
              1,
              "#f0f921"
             ]
            ],
            "type": "contour"
           }
          ],
          "contourcarpet": [
           {
            "colorbar": {
             "outlinewidth": 0,
             "ticks": ""
            },
            "type": "contourcarpet"
           }
          ],
          "heatmap": [
           {
            "colorbar": {
             "outlinewidth": 0,
             "ticks": ""
            },
            "colorscale": [
             [
              0,
              "#0d0887"
             ],
             [
              0.1111111111111111,
              "#46039f"
             ],
             [
              0.2222222222222222,
              "#7201a8"
             ],
             [
              0.3333333333333333,
              "#9c179e"
             ],
             [
              0.4444444444444444,
              "#bd3786"
             ],
             [
              0.5555555555555556,
              "#d8576b"
             ],
             [
              0.6666666666666666,
              "#ed7953"
             ],
             [
              0.7777777777777778,
              "#fb9f3a"
             ],
             [
              0.8888888888888888,
              "#fdca26"
             ],
             [
              1,
              "#f0f921"
             ]
            ],
            "type": "heatmap"
           }
          ],
          "heatmapgl": [
           {
            "colorbar": {
             "outlinewidth": 0,
             "ticks": ""
            },
            "colorscale": [
             [
              0,
              "#0d0887"
             ],
             [
              0.1111111111111111,
              "#46039f"
             ],
             [
              0.2222222222222222,
              "#7201a8"
             ],
             [
              0.3333333333333333,
              "#9c179e"
             ],
             [
              0.4444444444444444,
              "#bd3786"
             ],
             [
              0.5555555555555556,
              "#d8576b"
             ],
             [
              0.6666666666666666,
              "#ed7953"
             ],
             [
              0.7777777777777778,
              "#fb9f3a"
             ],
             [
              0.8888888888888888,
              "#fdca26"
             ],
             [
              1,
              "#f0f921"
             ]
            ],
            "type": "heatmapgl"
           }
          ],
          "histogram": [
           {
            "marker": {
             "pattern": {
              "fillmode": "overlay",
              "size": 10,
              "solidity": 0.2
             }
            },
            "type": "histogram"
           }
          ],
          "histogram2d": [
           {
            "colorbar": {
             "outlinewidth": 0,
             "ticks": ""
            },
            "colorscale": [
             [
              0,
              "#0d0887"
             ],
             [
              0.1111111111111111,
              "#46039f"
             ],
             [
              0.2222222222222222,
              "#7201a8"
             ],
             [
              0.3333333333333333,
              "#9c179e"
             ],
             [
              0.4444444444444444,
              "#bd3786"
             ],
             [
              0.5555555555555556,
              "#d8576b"
             ],
             [
              0.6666666666666666,
              "#ed7953"
             ],
             [
              0.7777777777777778,
              "#fb9f3a"
             ],
             [
              0.8888888888888888,
              "#fdca26"
             ],
             [
              1,
              "#f0f921"
             ]
            ],
            "type": "histogram2d"
           }
          ],
          "histogram2dcontour": [
           {
            "colorbar": {
             "outlinewidth": 0,
             "ticks": ""
            },
            "colorscale": [
             [
              0,
              "#0d0887"
             ],
             [
              0.1111111111111111,
              "#46039f"
             ],
             [
              0.2222222222222222,
              "#7201a8"
             ],
             [
              0.3333333333333333,
              "#9c179e"
             ],
             [
              0.4444444444444444,
              "#bd3786"
             ],
             [
              0.5555555555555556,
              "#d8576b"
             ],
             [
              0.6666666666666666,
              "#ed7953"
             ],
             [
              0.7777777777777778,
              "#fb9f3a"
             ],
             [
              0.8888888888888888,
              "#fdca26"
             ],
             [
              1,
              "#f0f921"
             ]
            ],
            "type": "histogram2dcontour"
           }
          ],
          "mesh3d": [
           {
            "colorbar": {
             "outlinewidth": 0,
             "ticks": ""
            },
            "type": "mesh3d"
           }
          ],
          "parcoords": [
           {
            "line": {
             "colorbar": {
              "outlinewidth": 0,
              "ticks": ""
             }
            },
            "type": "parcoords"
           }
          ],
          "pie": [
           {
            "automargin": true,
            "type": "pie"
           }
          ],
          "scatter": [
           {
            "fillpattern": {
             "fillmode": "overlay",
             "size": 10,
             "solidity": 0.2
            },
            "type": "scatter"
           }
          ],
          "scatter3d": [
           {
            "line": {
             "colorbar": {
              "outlinewidth": 0,
              "ticks": ""
             }
            },
            "marker": {
             "colorbar": {
              "outlinewidth": 0,
              "ticks": ""
             }
            },
            "type": "scatter3d"
           }
          ],
          "scattercarpet": [
           {
            "marker": {
             "colorbar": {
              "outlinewidth": 0,
              "ticks": ""
             }
            },
            "type": "scattercarpet"
           }
          ],
          "scattergeo": [
           {
            "marker": {
             "colorbar": {
              "outlinewidth": 0,
              "ticks": ""
             }
            },
            "type": "scattergeo"
           }
          ],
          "scattergl": [
           {
            "marker": {
             "colorbar": {
              "outlinewidth": 0,
              "ticks": ""
             }
            },
            "type": "scattergl"
           }
          ],
          "scattermapbox": [
           {
            "marker": {
             "colorbar": {
              "outlinewidth": 0,
              "ticks": ""
             }
            },
            "type": "scattermapbox"
           }
          ],
          "scatterpolar": [
           {
            "marker": {
             "colorbar": {
              "outlinewidth": 0,
              "ticks": ""
             }
            },
            "type": "scatterpolar"
           }
          ],
          "scatterpolargl": [
           {
            "marker": {
             "colorbar": {
              "outlinewidth": 0,
              "ticks": ""
             }
            },
            "type": "scatterpolargl"
           }
          ],
          "scatterternary": [
           {
            "marker": {
             "colorbar": {
              "outlinewidth": 0,
              "ticks": ""
             }
            },
            "type": "scatterternary"
           }
          ],
          "surface": [
           {
            "colorbar": {
             "outlinewidth": 0,
             "ticks": ""
            },
            "colorscale": [
             [
              0,
              "#0d0887"
             ],
             [
              0.1111111111111111,
              "#46039f"
             ],
             [
              0.2222222222222222,
              "#7201a8"
             ],
             [
              0.3333333333333333,
              "#9c179e"
             ],
             [
              0.4444444444444444,
              "#bd3786"
             ],
             [
              0.5555555555555556,
              "#d8576b"
             ],
             [
              0.6666666666666666,
              "#ed7953"
             ],
             [
              0.7777777777777778,
              "#fb9f3a"
             ],
             [
              0.8888888888888888,
              "#fdca26"
             ],
             [
              1,
              "#f0f921"
             ]
            ],
            "type": "surface"
           }
          ],
          "table": [
           {
            "cells": {
             "fill": {
              "color": "#EBF0F8"
             },
             "line": {
              "color": "white"
             }
            },
            "header": {
             "fill": {
              "color": "#C8D4E3"
             },
             "line": {
              "color": "white"
             }
            },
            "type": "table"
           }
          ]
         },
         "layout": {
          "annotationdefaults": {
           "arrowcolor": "#2a3f5f",
           "arrowhead": 0,
           "arrowwidth": 1
          },
          "autotypenumbers": "strict",
          "coloraxis": {
           "colorbar": {
            "outlinewidth": 0,
            "ticks": ""
           }
          },
          "colorscale": {
           "diverging": [
            [
             0,
             "#8e0152"
            ],
            [
             0.1,
             "#c51b7d"
            ],
            [
             0.2,
             "#de77ae"
            ],
            [
             0.3,
             "#f1b6da"
            ],
            [
             0.4,
             "#fde0ef"
            ],
            [
             0.5,
             "#f7f7f7"
            ],
            [
             0.6,
             "#e6f5d0"
            ],
            [
             0.7,
             "#b8e186"
            ],
            [
             0.8,
             "#7fbc41"
            ],
            [
             0.9,
             "#4d9221"
            ],
            [
             1,
             "#276419"
            ]
           ],
           "sequential": [
            [
             0,
             "#0d0887"
            ],
            [
             0.1111111111111111,
             "#46039f"
            ],
            [
             0.2222222222222222,
             "#7201a8"
            ],
            [
             0.3333333333333333,
             "#9c179e"
            ],
            [
             0.4444444444444444,
             "#bd3786"
            ],
            [
             0.5555555555555556,
             "#d8576b"
            ],
            [
             0.6666666666666666,
             "#ed7953"
            ],
            [
             0.7777777777777778,
             "#fb9f3a"
            ],
            [
             0.8888888888888888,
             "#fdca26"
            ],
            [
             1,
             "#f0f921"
            ]
           ],
           "sequentialminus": [
            [
             0,
             "#0d0887"
            ],
            [
             0.1111111111111111,
             "#46039f"
            ],
            [
             0.2222222222222222,
             "#7201a8"
            ],
            [
             0.3333333333333333,
             "#9c179e"
            ],
            [
             0.4444444444444444,
             "#bd3786"
            ],
            [
             0.5555555555555556,
             "#d8576b"
            ],
            [
             0.6666666666666666,
             "#ed7953"
            ],
            [
             0.7777777777777778,
             "#fb9f3a"
            ],
            [
             0.8888888888888888,
             "#fdca26"
            ],
            [
             1,
             "#f0f921"
            ]
           ]
          },
          "colorway": [
           "#636efa",
           "#EF553B",
           "#00cc96",
           "#ab63fa",
           "#FFA15A",
           "#19d3f3",
           "#FF6692",
           "#B6E880",
           "#FF97FF",
           "#FECB52"
          ],
          "font": {
           "color": "#2a3f5f"
          },
          "geo": {
           "bgcolor": "white",
           "lakecolor": "white",
           "landcolor": "#E5ECF6",
           "showlakes": true,
           "showland": true,
           "subunitcolor": "white"
          },
          "hoverlabel": {
           "align": "left"
          },
          "hovermode": "closest",
          "mapbox": {
           "style": "light"
          },
          "paper_bgcolor": "white",
          "plot_bgcolor": "#E5ECF6",
          "polar": {
           "angularaxis": {
            "gridcolor": "white",
            "linecolor": "white",
            "ticks": ""
           },
           "bgcolor": "#E5ECF6",
           "radialaxis": {
            "gridcolor": "white",
            "linecolor": "white",
            "ticks": ""
           }
          },
          "scene": {
           "xaxis": {
            "backgroundcolor": "#E5ECF6",
            "gridcolor": "white",
            "gridwidth": 2,
            "linecolor": "white",
            "showbackground": true,
            "ticks": "",
            "zerolinecolor": "white"
           },
           "yaxis": {
            "backgroundcolor": "#E5ECF6",
            "gridcolor": "white",
            "gridwidth": 2,
            "linecolor": "white",
            "showbackground": true,
            "ticks": "",
            "zerolinecolor": "white"
           },
           "zaxis": {
            "backgroundcolor": "#E5ECF6",
            "gridcolor": "white",
            "gridwidth": 2,
            "linecolor": "white",
            "showbackground": true,
            "ticks": "",
            "zerolinecolor": "white"
           }
          },
          "shapedefaults": {
           "line": {
            "color": "#2a3f5f"
           }
          },
          "ternary": {
           "aaxis": {
            "gridcolor": "white",
            "linecolor": "white",
            "ticks": ""
           },
           "baxis": {
            "gridcolor": "white",
            "linecolor": "white",
            "ticks": ""
           },
           "bgcolor": "#E5ECF6",
           "caxis": {
            "gridcolor": "white",
            "linecolor": "white",
            "ticks": ""
           }
          },
          "title": {
           "x": 0.05
          },
          "xaxis": {
           "automargin": true,
           "gridcolor": "white",
           "linecolor": "white",
           "ticks": "",
           "title": {
            "standoff": 15
           },
           "zerolinecolor": "white",
           "zerolinewidth": 2
          },
          "yaxis": {
           "automargin": true,
           "gridcolor": "white",
           "linecolor": "white",
           "ticks": "",
           "title": {
            "standoff": 15
           },
           "zerolinecolor": "white",
           "zerolinewidth": 2
          }
         }
        },
        "title": {
         "font": {
          "color": "#4D5663"
         },
         "text": "Representación"
        },
        "xaxis": {
         "gridcolor": "#E1E5ED",
         "showgrid": true,
         "tickfont": {
          "color": "#4D5663"
         },
         "title": {
          "font": {
           "color": "#4D5663"
          },
          "text": "Emisiones"
         },
         "zerolinecolor": "#E1E5ED"
        },
        "yaxis": {
         "gridcolor": "#E1E5ED",
         "showgrid": true,
         "tickfont": {
          "color": "#4D5663"
         },
         "title": {
          "font": {
           "color": "#4D5663"
          },
          "text": "Muestra"
         },
         "zerolinecolor": "#E1E5ED"
        }
       }
      },
      "text/html": [
       "<div>                            <div id=\"94298abf-8cb4-428d-86fe-bad52bd81f0c\" class=\"plotly-graph-div\" style=\"height:525px; width:100%;\"></div>            <script type=\"text/javascript\">                require([\"plotly\"], function(Plotly) {                    window.PLOTLYENV=window.PLOTLYENV || {};\n",
       "                    window.PLOTLYENV.BASE_URL='https://plot.ly';                                    if (document.getElementById(\"94298abf-8cb4-428d-86fe-bad52bd81f0c\")) {                    Plotly.newPlot(                        \"94298abf-8cb4-428d-86fe-bad52bd81f0c\",                        [{\"line\":{\"color\":\"rgba(255, 153, 51, 1.0)\",\"dash\":\"solid\",\"shape\":\"linear\",\"width\":1.3},\"mode\":\"lines\",\"name\":\"Predicci\\u00f3n\",\"text\":\"\",\"x\":[0,1,2,3,4,5,6,7,8,9,10,11,12,13,14,15,16,17,18,19,20,21,22,23,24,25,26,27,28,29,30,31,32,33,34,35,36,37,38,39,40,41,42,43,44,45,46,47,48,49,50,51,52,53,54,55,56,57,58,59,60,61,62,63,64,65,66,67,68,69,70,71,72,73,74,75,76,77,78,79,80,81,82,83,84,85,86,87,88,89,90,91,92,93,94,95,96,97,98,99,100,101,102,103,104,105,106,107,108,109,110,111,112,113,114,115,116,117,118,119,120,121,122,123,124,125,126,127,128,129,130,131,132,133,134,135,136,137,138,139,140,141,142,143,144,145,146,147,148,149,150,151,152,153,154,155,156,157,158,159,160,161,162,163,164,165,166,167,168,169,170,171,172,173,174,175,176,177,178,179,180,181,182,183,184,185,186,187,188,189,190,191,192,193,194,195,196,197,198,199,200,201,202,203,204,205,206,207,208,209,210,211,212,213,214,215,216,217,218,219,220,221,222,223,224,225,226,227,228,229,230,231,232,233,234,235,236,237,238,239,240,241,242,243,244,245,246,247,248,249,250,251,252,253,254,255,256,257,258,259,260,261,262,263,264,265,266,267,268,269,270,271,272,273,274,275,276,277,278,279,280,281,282,283,284,285,286,287,288,289,290,291,292,293,294,295,296,297,298,299,300,301,302,303,304,305,306,307,308,309,310,311,312,313,314,315,316,317,318,319,320,321,322,323,324,325,326,327,328,329,330,331,332,333,334,335,336,337,338,339,340,341,342,343,344,345,346,347,348,349,350,351,352,353,354,355,356,357,358,359,360,361,362,363,364,365,366,367,368,369,370,371,372,373,374,375,376,377,378,379,380,381,382,383,384,385,386,387,388,389,390,391,392,393,394,395,396,397,398,399,400,401,402,403,404,405,406,407,408,409,410,411,412,413,414,415,416,417,418,419,420,421,422,423,424,425,426],\"y\":[303.3595168656875,243.21407649432376,275.68515448231625,238.2026090007272,206.75255713079292,247.26430086936608,306.98918093761415,277.88199010346574,308.50825180352376,309.46055144724295,291.33716770996523,395.0922765512252,253.7173547841365,253.0995585328389,261.6807215944198,254.7471388725914,210.32225269877725,254.26661006553348,190.55128862174698,306.2428752124736,316.74615350228635,208.53740491478507,257.01251546364153,251.31471074884672,261.2687337572625,196.18055236664117,204.28118662116412,185.6085476024894,309.400768447739,249.5984039347552,386.4937830532893,205.65423207243737,207.71361474490882,328.27921588055403,240.67397951035593,286.05992329828604,279.5381429091766,391.9170528796048,199.33844560190656,198.5833819063693,174.89927539409803,187.25612794224193,184.92202487685282,212.58781479426574,277.88199010346574,197.14160998075707,244.79293035973728,257.14978290788116,195.21949475252526,364.3972883768282,317.570129176601,274.86136431244,213.342878489803,265.31914363674315,269.5066354560251,315.3045670811125,380.3839905013371,322.44414372151954,186.98159305376265,276.44040368229184,306.7232185150932,269.8500823232818,291.6204605688412,256.7379805751622,192.19886896149953,246.16597581101053,188.21718555635786,303.70277822850585,253.85462222837617,263.67156329699066,349.69776029733686,193.57191441277274,259.689879891849,209.22392764042172,214.99045882955554,293.808538219594,336.72311149789533,348.87415563189893,331.5745620644974,257.2185093822202,199.88770088330352,188.7664408377548,228.9263507475513,270.39915210024037,192.19886896149953,241.49776968023224,220.07922526344942,186.15780288388638,330.6820454202822,187.8053832236389,228.93492321350965,345.3040890550378,216.02900088840715,181.35232930886846,187.8053832236389,202.6336062814116,217.187294450705,221.79553207754094,273.21378397268745,334.45773490684513,339.81246376326004,210.11644428463697,273.21378397268745,221.30624530008632,288.86579720033643,170.3683367075594,240.67397951035593,207.57634730066917,216.36350428082875,211.6952981500505,192.67939776855746,290.17011617727064,263.3283019341723,235.52524457251974,314.54931788113686,257.56177074503853,267.79051414637195,351.482608081329,267.44725278355367,197.96540015063334,251.4519781930864,168.78948284214587,223.98360972829374,163.2289455715907,242.32155985010849,208.94939275194238,271.56620363293496,186.15780288388638,318.32519287213825,204.28118662116412,192.19886896149953,207.0270920192722,373.7251281724264,188.7664408377548,275.34189311949797,250.55946154887113,252.20704188862362,309.400768447739,205.92876696091668,294.3663659669493,316.6776125323857,259.689879891849,190.55128862174698,256.7379805751622,183.2744445371003,254.7471388725914,313.5795022966243,156.63862421258062,324.220233535115,342.9787439600454,214.99045882955554,251.4519781930864,255.36493512388904,264.56389443676755,267.03526494639635,300.33031860870346,308.50825180352376,220.07922526344942,187.94265066787855,257.56177074503853,333.9086651298865,313.51971929712033,237.23279341621458,289.6895873702127,223.77761580971512,268.2710429534299,224.80739989817002,330.6820454202822,214.99045882955554,195.6312970852442,214.99045882955554,331.5745620644974,363.5135297030096,266.48619516943774,404.617166790567,189.59023100763108,249.80439785333385,204.28118662116412,310.9794368087142,253.03083205849987,204.41845406540378,166.3868388068561,239.8501893404797,389.78894373279434,193.64064088711174,300.2703501047611,336.72311149789533,173.52622994282478,186.43233777236568,163.8467418228883,198.5833819063693,194.53297202688864,204.34991309550313,190.55128862174698,202.08435100001464,190.41402117750735,248.15681751358136,199.33844560190656,266.48619516943774,205.1049767910404,364.52598335510953,152.31367944462065,306.3114161823743,199.06391071342725,329.0344650805296,438.8045515926511,206.4780222423136,215.81424899943178,315.3045670811125,204.28118662116412,223.77761580971512,221.30624530008632,254.67841239825242,396.80019640379675,183.2744445371003,296.56320158809876,236.55502866097464,253.03083205849987,334.25174098826653,315.5103754952528,257.9050321078568,219.10940967893686,305.89942834521696,271.56620363293496,315.64764293949247,209.77318292181866,410.05776705323757,315.09857316253385,344.6864783081786,265.31914363674315,344.75520478251764,262.98504057135403,265.7996724438011,218.83487479045755,289.6895873702127,171.32957982611367,216.63803916930806,215.05918530389454,188.21718555635786,306.1653907677379,269.09483312330616,314.40329246650055,273.76303925408445,207.57634730066917,215.20521071853085,306.4488691310523,217.5305558135233,285.3046740983104,267.92778159061163,190.55128862174698,205.92876696091668,213.55763037877836,334.25174098826653,264.4953534668669,196.0432849224015,380.74458230051044,256.25745176810426,310.56781998043357,256.7379805751622,405.71567735336095,244.79293035973728,184.92202487685282,296.56320158809876,269.8500823232818,309.3320419734,270.26188465600075,209.22392764042172,260.03314125466727,212.24455343144743,315.3045670811125,320.79656338176704,310.2245586176153,190.55128862174698,257.14978290788116,250.6281880232101,277.0581999335895,239.02639917060344,187.25612794224193,209.77318292181866,225.021966282707,257.56177074503853,183.2744445371003,229.54414699884893,186.15780288388638,261.2687337572625,334.5950023510848,222.1300354699626,308.6455192477634,205.92876696091668,262.98504057135403,265.7996724438011,191.2378113473836,210.04771781029797,373.8622101122277,334.25174098826653,225.4251961494676,320.3160345747091,349.69776029733686,182.45065436722402,216.63803916930806,233.8690917668089,197.0043425365174,207.64507377500817,273.76303925408445,381.1563846332294,238.2026090007272,252.20704188862362,202.6336062814116,174.35002011270106,211.42076326157118,260.44494358738626,304.6638358426217,364.52598335510953,205.92876696091668,207.57634730066917,187.25612794224193,205.92876696091668,377.0888298218321,328.2794013849924,182.79391573004233,201.05475241599808,235.58521307646205,259.209351084791,354.3659664281151,248.15681751358136,302.0464399183566,200.9860259416591,296.56320158809876,242.32155985010849,183.2744445371003,329.10319155486866,197.69086526215403,372.0775478326739,272.3899938028112,254.26661006553348,360.6130264243069,218.01108462058127,315.3045670811125,362.05461284548073,360.6130264243069,241.5664961545712,235.52524457251974,315.5103754952528,203.52612292562688,191.2378113473836,219.17813615327586,320.79656338176704,391.9170528796048,212.24455343144743,195.21949475252526,306.8608569682096,192.19886896149953,202.6336062814116,187.25612794224193,241.49776968023224,195.28822122686427,303.7715047028448,262.98504057135403,331.78037047863774,266.48619516943774,353.1301884210815,258.72882227773306,373.7251281724264,229.8874083616672,224.60140597959136,204.55572150964343,285.43336907659176,356.28826716078527,224.5370584904507,193.02265913137578,214.1666686596793,205.1737032653794,197.0043425365174,253.92334870271515,377.4494216210054,257.9050321078568,179.49875505053728,218.01108462058127,210.04771781029797,273.21378397268745,351.482608081329,270.7424134630587,265.3876846066438,177.02738454090849,221.51223921866497,185.6085476024894,218.83487479045755,309.3320419734,263.67156329699066,162.40077641651612,222.88947815069818,231.19172733860145,179.29294663639698,248.15681751358136,205.92876696091668,186.43233777236568,191.44380526596225,260.8569314245436,440.4521319324036,200.16223577178283,197.96540015063334,377.0888298218321,251.4519781930864,182.86264220438133,204.00665173268482,260.03314125466727,249.80439785333385,197.62213878781503,186.15780288388638,221.30624530008632,250.55946154887113,265.3876846066438,256.3259927380049,192.19886896149953,252.61902972578093,215.81424899943178,217.67658122815965,219.17813615327586,262.0239829572381,258.2482934706751,262.0239829572381,201.80981611153535,212.51908831992674,362.05461284548073,211.42076326157118,187.25612794224193,262.98504057135403],\"type\":\"scatter\"},{\"line\":{\"color\":\"rgba(55, 128, 191, 1.0)\",\"dash\":\"solid\",\"shape\":\"linear\",\"width\":1.3},\"mode\":\"lines\",\"name\":\"Valor Real\",\"text\":\"\",\"x\":[0,1,2,3,4,5,6,7,8,9,10,11,12,13,14,15,16,17,18,19,20,21,22,23,24,25,26,27,28,29,30,31,32,33,34,35,36,37,38,39,40,41,42,43,44,45,46,47,48,49,50,51,52,53,54,55,56,57,58,59,60,61,62,63,64,65,66,67,68,69,70,71,72,73,74,75,76,77,78,79,80,81,82,83,84,85,86,87,88,89,90,91,92,93,94,95,96,97,98,99,100,101,102,103,104,105,106,107,108,109,110,111,112,113,114,115,116,117,118,119,120,121,122,123,124,125,126,127,128,129,130,131,132,133,134,135,136,137,138,139,140,141,142,143,144,145,146,147,148,149,150,151,152,153,154,155,156,157,158,159,160,161,162,163,164,165,166,167,168,169,170,171,172,173,174,175,176,177,178,179,180,181,182,183,184,185,186,187,188,189,190,191,192,193,194,195,196,197,198,199,200,201,202,203,204,205,206,207,208,209,210,211,212,213,214,215,216,217,218,219,220,221,222,223,224,225,226,227,228,229,230,231,232,233,234,235,236,237,238,239,240,241,242,243,244,245,246,247,248,249,250,251,252,253,254,255,256,257,258,259,260,261,262,263,264,265,266,267,268,269,270,271,272,273,274,275,276,277,278,279,280,281,282,283,284,285,286,287,288,289,290,291,292,293,294,295,296,297,298,299,300,301,302,303,304,305,306,307,308,309,310,311,312,313,314,315,316,317,318,319,320,321,322,323,324,325,326,327,328,329,330,331,332,333,334,335,336,337,338,339,340,341,342,343,344,345,346,347,348,349,350,351,352,353,354,355,356,357,358,359,360,361,362,363,364,365,366,367,368,369,370,371,372,373,374,375,376,377,378,379,380,381,382,383,384,385,386,387,388,389,390,391,392,393,394,395,396,397,398,399,400,401,402,403,404,405,406,407,408,409,410,411,412,413,414,415,416,417,418,419,420,421,422,423,424,425,426],\"y\":[304,221,294,221,207,246,259,310,310,264,230,393,258,246,269,255,232,242,184,299,334,216,267,235,285,196,209,175,297,248,346,196,216,354,228,264,260,362,196,196,152,177,182,207,301,207,244,278,179,400,292,308,225,281,292,317,344,324,177,290,320,271,281,251,191,237,179,294,267,269,280,189,264,216,230,237,380,377,340,251,186,182,251,294,191,278,191,161,340,166,212,407,175,156,197,193,225,189,294,359,347,207,290,255,229,152,228,209,225,223,186,229,276,228,347,260,283,414,294,207,253,145,235,129,232,200,290,184,294,202,196,223,435,177,308,258,258,297,200,290,301,265,184,251,179,255,269,110,285,361,235,253,264,285,292,347,310,213,175,251,317,310,195,222,230,294,237,331,237,207,237,340,359,274,382,179,244,209,334,264,202,138,275,360,168,290,380,159,179,136,175,184,189,184,214,184,244,191,274,214,318,108,329,182,340,411,209,225,317,212,230,232,260,389,179,292,267,262,380,338,253,235,322,290,336,216,421,336,384,281,366,271,276,235,222,145,165,223,184,259,283,272,297,216,189,283,225,281,288,184,200,175,380,269,184,368,248,294,251,354,281,182,292,271,306,290,216,258,212,317,308,301,184,278,244,292,235,175,216,224,248,173,255,161,285,368,237,315,209,278,274,182,218,350,380,244,304,280,168,228,271,191,207,297,380,221,258,214,159,209,283,320,320,200,209,179,200,334,324,177,202,283,255,421,230,251,198,292,237,179,329,186,432,301,242,294,230,317,315,294,221,228,338,186,182,228,308,362,212,184,258,196,193,186,237,168,292,274,366,274,419,255,435,258,251,218,322,382,216,200,221,198,191,260,359,255,168,218,221,308,414,285,281,159,235,175,230,304,267,147,218,260,145,235,207,179,194,262,413,202,207,334,251,181,189,258,237,196,163,255,294,285,274,196,235,162,172,228,265,253,264,196,230,315,202,179,271],\"type\":\"scatter\"}],                        {\"legend\":{\"bgcolor\":\"#FFFFFF\",\"font\":{\"color\":\"#4D5663\"}},\"paper_bgcolor\":\"#FFFFFF\",\"plot_bgcolor\":\"#FFFFFF\",\"template\":{\"data\":{\"barpolar\":[{\"marker\":{\"line\":{\"color\":\"#E5ECF6\",\"width\":0.5},\"pattern\":{\"fillmode\":\"overlay\",\"size\":10,\"solidity\":0.2}},\"type\":\"barpolar\"}],\"bar\":[{\"error_x\":{\"color\":\"#2a3f5f\"},\"error_y\":{\"color\":\"#2a3f5f\"},\"marker\":{\"line\":{\"color\":\"#E5ECF6\",\"width\":0.5},\"pattern\":{\"fillmode\":\"overlay\",\"size\":10,\"solidity\":0.2}},\"type\":\"bar\"}],\"carpet\":[{\"aaxis\":{\"endlinecolor\":\"#2a3f5f\",\"gridcolor\":\"white\",\"linecolor\":\"white\",\"minorgridcolor\":\"white\",\"startlinecolor\":\"#2a3f5f\"},\"baxis\":{\"endlinecolor\":\"#2a3f5f\",\"gridcolor\":\"white\",\"linecolor\":\"white\",\"minorgridcolor\":\"white\",\"startlinecolor\":\"#2a3f5f\"},\"type\":\"carpet\"}],\"choropleth\":[{\"colorbar\":{\"outlinewidth\":0,\"ticks\":\"\"},\"type\":\"choropleth\"}],\"contourcarpet\":[{\"colorbar\":{\"outlinewidth\":0,\"ticks\":\"\"},\"type\":\"contourcarpet\"}],\"contour\":[{\"colorbar\":{\"outlinewidth\":0,\"ticks\":\"\"},\"colorscale\":[[0.0,\"#0d0887\"],[0.1111111111111111,\"#46039f\"],[0.2222222222222222,\"#7201a8\"],[0.3333333333333333,\"#9c179e\"],[0.4444444444444444,\"#bd3786\"],[0.5555555555555556,\"#d8576b\"],[0.6666666666666666,\"#ed7953\"],[0.7777777777777778,\"#fb9f3a\"],[0.8888888888888888,\"#fdca26\"],[1.0,\"#f0f921\"]],\"type\":\"contour\"}],\"heatmapgl\":[{\"colorbar\":{\"outlinewidth\":0,\"ticks\":\"\"},\"colorscale\":[[0.0,\"#0d0887\"],[0.1111111111111111,\"#46039f\"],[0.2222222222222222,\"#7201a8\"],[0.3333333333333333,\"#9c179e\"],[0.4444444444444444,\"#bd3786\"],[0.5555555555555556,\"#d8576b\"],[0.6666666666666666,\"#ed7953\"],[0.7777777777777778,\"#fb9f3a\"],[0.8888888888888888,\"#fdca26\"],[1.0,\"#f0f921\"]],\"type\":\"heatmapgl\"}],\"heatmap\":[{\"colorbar\":{\"outlinewidth\":0,\"ticks\":\"\"},\"colorscale\":[[0.0,\"#0d0887\"],[0.1111111111111111,\"#46039f\"],[0.2222222222222222,\"#7201a8\"],[0.3333333333333333,\"#9c179e\"],[0.4444444444444444,\"#bd3786\"],[0.5555555555555556,\"#d8576b\"],[0.6666666666666666,\"#ed7953\"],[0.7777777777777778,\"#fb9f3a\"],[0.8888888888888888,\"#fdca26\"],[1.0,\"#f0f921\"]],\"type\":\"heatmap\"}],\"histogram2dcontour\":[{\"colorbar\":{\"outlinewidth\":0,\"ticks\":\"\"},\"colorscale\":[[0.0,\"#0d0887\"],[0.1111111111111111,\"#46039f\"],[0.2222222222222222,\"#7201a8\"],[0.3333333333333333,\"#9c179e\"],[0.4444444444444444,\"#bd3786\"],[0.5555555555555556,\"#d8576b\"],[0.6666666666666666,\"#ed7953\"],[0.7777777777777778,\"#fb9f3a\"],[0.8888888888888888,\"#fdca26\"],[1.0,\"#f0f921\"]],\"type\":\"histogram2dcontour\"}],\"histogram2d\":[{\"colorbar\":{\"outlinewidth\":0,\"ticks\":\"\"},\"colorscale\":[[0.0,\"#0d0887\"],[0.1111111111111111,\"#46039f\"],[0.2222222222222222,\"#7201a8\"],[0.3333333333333333,\"#9c179e\"],[0.4444444444444444,\"#bd3786\"],[0.5555555555555556,\"#d8576b\"],[0.6666666666666666,\"#ed7953\"],[0.7777777777777778,\"#fb9f3a\"],[0.8888888888888888,\"#fdca26\"],[1.0,\"#f0f921\"]],\"type\":\"histogram2d\"}],\"histogram\":[{\"marker\":{\"pattern\":{\"fillmode\":\"overlay\",\"size\":10,\"solidity\":0.2}},\"type\":\"histogram\"}],\"mesh3d\":[{\"colorbar\":{\"outlinewidth\":0,\"ticks\":\"\"},\"type\":\"mesh3d\"}],\"parcoords\":[{\"line\":{\"colorbar\":{\"outlinewidth\":0,\"ticks\":\"\"}},\"type\":\"parcoords\"}],\"pie\":[{\"automargin\":true,\"type\":\"pie\"}],\"scatter3d\":[{\"line\":{\"colorbar\":{\"outlinewidth\":0,\"ticks\":\"\"}},\"marker\":{\"colorbar\":{\"outlinewidth\":0,\"ticks\":\"\"}},\"type\":\"scatter3d\"}],\"scattercarpet\":[{\"marker\":{\"colorbar\":{\"outlinewidth\":0,\"ticks\":\"\"}},\"type\":\"scattercarpet\"}],\"scattergeo\":[{\"marker\":{\"colorbar\":{\"outlinewidth\":0,\"ticks\":\"\"}},\"type\":\"scattergeo\"}],\"scattergl\":[{\"marker\":{\"colorbar\":{\"outlinewidth\":0,\"ticks\":\"\"}},\"type\":\"scattergl\"}],\"scattermapbox\":[{\"marker\":{\"colorbar\":{\"outlinewidth\":0,\"ticks\":\"\"}},\"type\":\"scattermapbox\"}],\"scatterpolargl\":[{\"marker\":{\"colorbar\":{\"outlinewidth\":0,\"ticks\":\"\"}},\"type\":\"scatterpolargl\"}],\"scatterpolar\":[{\"marker\":{\"colorbar\":{\"outlinewidth\":0,\"ticks\":\"\"}},\"type\":\"scatterpolar\"}],\"scatter\":[{\"fillpattern\":{\"fillmode\":\"overlay\",\"size\":10,\"solidity\":0.2},\"type\":\"scatter\"}],\"scatterternary\":[{\"marker\":{\"colorbar\":{\"outlinewidth\":0,\"ticks\":\"\"}},\"type\":\"scatterternary\"}],\"surface\":[{\"colorbar\":{\"outlinewidth\":0,\"ticks\":\"\"},\"colorscale\":[[0.0,\"#0d0887\"],[0.1111111111111111,\"#46039f\"],[0.2222222222222222,\"#7201a8\"],[0.3333333333333333,\"#9c179e\"],[0.4444444444444444,\"#bd3786\"],[0.5555555555555556,\"#d8576b\"],[0.6666666666666666,\"#ed7953\"],[0.7777777777777778,\"#fb9f3a\"],[0.8888888888888888,\"#fdca26\"],[1.0,\"#f0f921\"]],\"type\":\"surface\"}],\"table\":[{\"cells\":{\"fill\":{\"color\":\"#EBF0F8\"},\"line\":{\"color\":\"white\"}},\"header\":{\"fill\":{\"color\":\"#C8D4E3\"},\"line\":{\"color\":\"white\"}},\"type\":\"table\"}]},\"layout\":{\"annotationdefaults\":{\"arrowcolor\":\"#2a3f5f\",\"arrowhead\":0,\"arrowwidth\":1},\"autotypenumbers\":\"strict\",\"coloraxis\":{\"colorbar\":{\"outlinewidth\":0,\"ticks\":\"\"}},\"colorscale\":{\"diverging\":[[0,\"#8e0152\"],[0.1,\"#c51b7d\"],[0.2,\"#de77ae\"],[0.3,\"#f1b6da\"],[0.4,\"#fde0ef\"],[0.5,\"#f7f7f7\"],[0.6,\"#e6f5d0\"],[0.7,\"#b8e186\"],[0.8,\"#7fbc41\"],[0.9,\"#4d9221\"],[1,\"#276419\"]],\"sequential\":[[0.0,\"#0d0887\"],[0.1111111111111111,\"#46039f\"],[0.2222222222222222,\"#7201a8\"],[0.3333333333333333,\"#9c179e\"],[0.4444444444444444,\"#bd3786\"],[0.5555555555555556,\"#d8576b\"],[0.6666666666666666,\"#ed7953\"],[0.7777777777777778,\"#fb9f3a\"],[0.8888888888888888,\"#fdca26\"],[1.0,\"#f0f921\"]],\"sequentialminus\":[[0.0,\"#0d0887\"],[0.1111111111111111,\"#46039f\"],[0.2222222222222222,\"#7201a8\"],[0.3333333333333333,\"#9c179e\"],[0.4444444444444444,\"#bd3786\"],[0.5555555555555556,\"#d8576b\"],[0.6666666666666666,\"#ed7953\"],[0.7777777777777778,\"#fb9f3a\"],[0.8888888888888888,\"#fdca26\"],[1.0,\"#f0f921\"]]},\"colorway\":[\"#636efa\",\"#EF553B\",\"#00cc96\",\"#ab63fa\",\"#FFA15A\",\"#19d3f3\",\"#FF6692\",\"#B6E880\",\"#FF97FF\",\"#FECB52\"],\"font\":{\"color\":\"#2a3f5f\"},\"geo\":{\"bgcolor\":\"white\",\"lakecolor\":\"white\",\"landcolor\":\"#E5ECF6\",\"showlakes\":true,\"showland\":true,\"subunitcolor\":\"white\"},\"hoverlabel\":{\"align\":\"left\"},\"hovermode\":\"closest\",\"mapbox\":{\"style\":\"light\"},\"paper_bgcolor\":\"white\",\"plot_bgcolor\":\"#E5ECF6\",\"polar\":{\"angularaxis\":{\"gridcolor\":\"white\",\"linecolor\":\"white\",\"ticks\":\"\"},\"bgcolor\":\"#E5ECF6\",\"radialaxis\":{\"gridcolor\":\"white\",\"linecolor\":\"white\",\"ticks\":\"\"}},\"scene\":{\"xaxis\":{\"backgroundcolor\":\"#E5ECF6\",\"gridcolor\":\"white\",\"gridwidth\":2,\"linecolor\":\"white\",\"showbackground\":true,\"ticks\":\"\",\"zerolinecolor\":\"white\"},\"yaxis\":{\"backgroundcolor\":\"#E5ECF6\",\"gridcolor\":\"white\",\"gridwidth\":2,\"linecolor\":\"white\",\"showbackground\":true,\"ticks\":\"\",\"zerolinecolor\":\"white\"},\"zaxis\":{\"backgroundcolor\":\"#E5ECF6\",\"gridcolor\":\"white\",\"gridwidth\":2,\"linecolor\":\"white\",\"showbackground\":true,\"ticks\":\"\",\"zerolinecolor\":\"white\"}},\"shapedefaults\":{\"line\":{\"color\":\"#2a3f5f\"}},\"ternary\":{\"aaxis\":{\"gridcolor\":\"white\",\"linecolor\":\"white\",\"ticks\":\"\"},\"baxis\":{\"gridcolor\":\"white\",\"linecolor\":\"white\",\"ticks\":\"\"},\"bgcolor\":\"#E5ECF6\",\"caxis\":{\"gridcolor\":\"white\",\"linecolor\":\"white\",\"ticks\":\"\"}},\"title\":{\"x\":0.05},\"xaxis\":{\"automargin\":true,\"gridcolor\":\"white\",\"linecolor\":\"white\",\"ticks\":\"\",\"title\":{\"standoff\":15},\"zerolinecolor\":\"white\",\"zerolinewidth\":2},\"yaxis\":{\"automargin\":true,\"gridcolor\":\"white\",\"linecolor\":\"white\",\"ticks\":\"\",\"title\":{\"standoff\":15},\"zerolinecolor\":\"white\",\"zerolinewidth\":2}}},\"title\":{\"font\":{\"color\":\"#4D5663\"},\"text\":\"Representaci\\u00f3n\"},\"xaxis\":{\"gridcolor\":\"#E1E5ED\",\"showgrid\":true,\"tickfont\":{\"color\":\"#4D5663\"},\"title\":{\"font\":{\"color\":\"#4D5663\"},\"text\":\"Emisiones\"},\"zerolinecolor\":\"#E1E5ED\"},\"yaxis\":{\"gridcolor\":\"#E1E5ED\",\"showgrid\":true,\"tickfont\":{\"color\":\"#4D5663\"},\"title\":{\"font\":{\"color\":\"#4D5663\"},\"text\":\"Muestra\"},\"zerolinecolor\":\"#E1E5ED\"}},                        {\"showLink\": true, \"linkText\": \"Export to plot.ly\", \"plotlyServerURL\": \"https://plot.ly\", \"responsive\": true}                    ).then(function(){\n",
       "                            \n",
       "var gd = document.getElementById('94298abf-8cb4-428d-86fe-bad52bd81f0c');\n",
       "var x = new MutationObserver(function (mutations, observer) {{\n",
       "        var display = window.getComputedStyle(gd).display;\n",
       "        if (!display || display === 'none') {{\n",
       "            console.log([gd, 'removed!']);\n",
       "            Plotly.purge(gd);\n",
       "            observer.disconnect();\n",
       "        }}\n",
       "}});\n",
       "\n",
       "// Listen for the removal of the full notebook cells\n",
       "var notebookContainer = gd.closest('#notebook-container');\n",
       "if (notebookContainer) {{\n",
       "    x.observe(notebookContainer, {childList: true});\n",
       "}}\n",
       "\n",
       "// Listen for the clearing of the current output cell\n",
       "var outputEl = gd.closest('.output');\n",
       "if (outputEl) {{\n",
       "    x.observe(outputEl, {childList: true});\n",
       "}}\n",
       "\n",
       "                        })                };                });            </script>        </div>"
      ]
     },
     "metadata": {},
     "output_type": "display_data"
    }
   ],
   "source": [
    "df4.iplot(kind='line', \n",
    "                 xTitle='Emisiones', \n",
    "                 yTitle='Muestra',\n",
    "                title='Representación')"
   ]
  },
  {
   "cell_type": "code",
   "execution_count": 21,
   "id": "acc445c9",
   "metadata": {},
   "outputs": [
    {
     "data": {
      "application/vnd.plotly.v1+json": {
       "config": {
        "plotlyServerURL": "https://plot.ly"
       },
       "data": [
        {
         "alignmentgroup": "True",
         "boxpoints": "all",
         "fillcolor": "rgba(255,255,255,0)",
         "hoveron": "points",
         "hovertemplate": "Valor Real=%{x}<br>Predicción=%{y}<extra></extra>",
         "legendgroup": "",
         "line": {
          "color": "rgba(255,255,255,0)"
         },
         "marker": {
          "color": "#636efa"
         },
         "name": "",
         "offsetgroup": "",
         "orientation": "v",
         "pointpos": 0,
         "showlegend": false,
         "type": "box",
         "x": [
          304,
          221,
          294,
          221,
          207,
          246,
          259,
          310,
          310,
          264,
          230,
          393,
          258,
          246,
          269,
          255,
          232,
          242,
          184,
          299,
          334,
          216,
          267,
          235,
          285,
          196,
          209,
          175,
          297,
          248,
          346,
          196,
          216,
          354,
          228,
          264,
          260,
          362,
          196,
          196,
          152,
          177,
          182,
          207,
          301,
          207,
          244,
          278,
          179,
          400,
          292,
          308,
          225,
          281,
          292,
          317,
          344,
          324,
          177,
          290,
          320,
          271,
          281,
          251,
          191,
          237,
          179,
          294,
          267,
          269,
          280,
          189,
          264,
          216,
          230,
          237,
          380,
          377,
          340,
          251,
          186,
          182,
          251,
          294,
          191,
          278,
          191,
          161,
          340,
          166,
          212,
          407,
          175,
          156,
          197,
          193,
          225,
          189,
          294,
          359,
          347,
          207,
          290,
          255,
          229,
          152,
          228,
          209,
          225,
          223,
          186,
          229,
          276,
          228,
          347,
          260,
          283,
          414,
          294,
          207,
          253,
          145,
          235,
          129,
          232,
          200,
          290,
          184,
          294,
          202,
          196,
          223,
          435,
          177,
          308,
          258,
          258,
          297,
          200,
          290,
          301,
          265,
          184,
          251,
          179,
          255,
          269,
          110,
          285,
          361,
          235,
          253,
          264,
          285,
          292,
          347,
          310,
          213,
          175,
          251,
          317,
          310,
          195,
          222,
          230,
          294,
          237,
          331,
          237,
          207,
          237,
          340,
          359,
          274,
          382,
          179,
          244,
          209,
          334,
          264,
          202,
          138,
          275,
          360,
          168,
          290,
          380,
          159,
          179,
          136,
          175,
          184,
          189,
          184,
          214,
          184,
          244,
          191,
          274,
          214,
          318,
          108,
          329,
          182,
          340,
          411,
          209,
          225,
          317,
          212,
          230,
          232,
          260,
          389,
          179,
          292,
          267,
          262,
          380,
          338,
          253,
          235,
          322,
          290,
          336,
          216,
          421,
          336,
          384,
          281,
          366,
          271,
          276,
          235,
          222,
          145,
          165,
          223,
          184,
          259,
          283,
          272,
          297,
          216,
          189,
          283,
          225,
          281,
          288,
          184,
          200,
          175,
          380,
          269,
          184,
          368,
          248,
          294,
          251,
          354,
          281,
          182,
          292,
          271,
          306,
          290,
          216,
          258,
          212,
          317,
          308,
          301,
          184,
          278,
          244,
          292,
          235,
          175,
          216,
          224,
          248,
          173,
          255,
          161,
          285,
          368,
          237,
          315,
          209,
          278,
          274,
          182,
          218,
          350,
          380,
          244,
          304,
          280,
          168,
          228,
          271,
          191,
          207,
          297,
          380,
          221,
          258,
          214,
          159,
          209,
          283,
          320,
          320,
          200,
          209,
          179,
          200,
          334,
          324,
          177,
          202,
          283,
          255,
          421,
          230,
          251,
          198,
          292,
          237,
          179,
          329,
          186,
          432,
          301,
          242,
          294,
          230,
          317,
          315,
          294,
          221,
          228,
          338,
          186,
          182,
          228,
          308,
          362,
          212,
          184,
          258,
          196,
          193,
          186,
          237,
          168,
          292,
          274,
          366,
          274,
          419,
          255,
          435,
          258,
          251,
          218,
          322,
          382,
          216,
          200,
          221,
          198,
          191,
          260,
          359,
          255,
          168,
          218,
          221,
          308,
          414,
          285,
          281,
          159,
          235,
          175,
          230,
          304,
          267,
          147,
          218,
          260,
          145,
          235,
          207,
          179,
          194,
          262,
          413,
          202,
          207,
          334,
          251,
          181,
          189,
          258,
          237,
          196,
          163,
          255,
          294,
          285,
          274,
          196,
          235,
          162,
          172,
          228,
          265,
          253,
          264,
          196,
          230,
          315,
          202,
          179,
          271
         ],
         "x0": " ",
         "xaxis": "x",
         "y": [
          303.3595168656875,
          243.21407649432376,
          275.68515448231625,
          238.2026090007272,
          206.75255713079292,
          247.26430086936608,
          306.98918093761415,
          277.88199010346574,
          308.50825180352376,
          309.46055144724295,
          291.33716770996523,
          395.0922765512252,
          253.7173547841365,
          253.0995585328389,
          261.6807215944198,
          254.7471388725914,
          210.32225269877725,
          254.26661006553348,
          190.55128862174698,
          306.2428752124736,
          316.74615350228635,
          208.53740491478507,
          257.01251546364153,
          251.31471074884672,
          261.2687337572625,
          196.18055236664117,
          204.28118662116412,
          185.6085476024894,
          309.400768447739,
          249.5984039347552,
          386.4937830532893,
          205.65423207243737,
          207.71361474490882,
          328.27921588055403,
          240.67397951035593,
          286.05992329828604,
          279.5381429091766,
          391.9170528796048,
          199.33844560190656,
          198.5833819063693,
          174.89927539409803,
          187.25612794224193,
          184.92202487685282,
          212.58781479426574,
          277.88199010346574,
          197.14160998075707,
          244.79293035973728,
          257.14978290788116,
          195.21949475252526,
          364.3972883768282,
          317.570129176601,
          274.86136431244,
          213.342878489803,
          265.31914363674315,
          269.5066354560251,
          315.3045670811125,
          380.3839905013371,
          322.44414372151954,
          186.98159305376265,
          276.44040368229184,
          306.7232185150932,
          269.8500823232818,
          291.6204605688412,
          256.7379805751622,
          192.19886896149953,
          246.16597581101053,
          188.21718555635786,
          303.70277822850585,
          253.85462222837617,
          263.67156329699066,
          349.69776029733686,
          193.57191441277274,
          259.689879891849,
          209.22392764042172,
          214.99045882955554,
          293.808538219594,
          336.72311149789533,
          348.87415563189893,
          331.5745620644974,
          257.2185093822202,
          199.88770088330352,
          188.7664408377548,
          228.9263507475513,
          270.39915210024037,
          192.19886896149953,
          241.49776968023224,
          220.07922526344942,
          186.15780288388638,
          330.6820454202822,
          187.8053832236389,
          228.93492321350965,
          345.3040890550378,
          216.02900088840715,
          181.35232930886846,
          187.8053832236389,
          202.6336062814116,
          217.187294450705,
          221.79553207754094,
          273.21378397268745,
          334.45773490684513,
          339.81246376326004,
          210.11644428463697,
          273.21378397268745,
          221.30624530008632,
          288.86579720033643,
          170.3683367075594,
          240.67397951035593,
          207.57634730066917,
          216.36350428082875,
          211.6952981500505,
          192.67939776855746,
          290.17011617727064,
          263.3283019341723,
          235.52524457251974,
          314.54931788113686,
          257.56177074503853,
          267.79051414637195,
          351.482608081329,
          267.44725278355367,
          197.96540015063334,
          251.4519781930864,
          168.78948284214587,
          223.98360972829374,
          163.2289455715907,
          242.32155985010849,
          208.94939275194238,
          271.56620363293496,
          186.15780288388638,
          318.32519287213825,
          204.28118662116412,
          192.19886896149953,
          207.0270920192722,
          373.7251281724264,
          188.7664408377548,
          275.34189311949797,
          250.55946154887113,
          252.20704188862362,
          309.400768447739,
          205.92876696091668,
          294.3663659669493,
          316.6776125323857,
          259.689879891849,
          190.55128862174698,
          256.7379805751622,
          183.2744445371003,
          254.7471388725914,
          313.5795022966243,
          156.63862421258062,
          324.220233535115,
          342.9787439600454,
          214.99045882955554,
          251.4519781930864,
          255.36493512388904,
          264.56389443676755,
          267.03526494639635,
          300.33031860870346,
          308.50825180352376,
          220.07922526344942,
          187.94265066787855,
          257.56177074503853,
          333.9086651298865,
          313.51971929712033,
          237.23279341621458,
          289.6895873702127,
          223.77761580971512,
          268.2710429534299,
          224.80739989817002,
          330.6820454202822,
          214.99045882955554,
          195.6312970852442,
          214.99045882955554,
          331.5745620644974,
          363.5135297030096,
          266.48619516943774,
          404.617166790567,
          189.59023100763108,
          249.80439785333385,
          204.28118662116412,
          310.9794368087142,
          253.03083205849987,
          204.41845406540378,
          166.3868388068561,
          239.8501893404797,
          389.78894373279434,
          193.64064088711174,
          300.2703501047611,
          336.72311149789533,
          173.52622994282478,
          186.43233777236568,
          163.8467418228883,
          198.5833819063693,
          194.53297202688864,
          204.34991309550313,
          190.55128862174698,
          202.08435100001464,
          190.41402117750735,
          248.15681751358136,
          199.33844560190656,
          266.48619516943774,
          205.1049767910404,
          364.52598335510953,
          152.31367944462065,
          306.3114161823743,
          199.06391071342725,
          329.0344650805296,
          438.8045515926511,
          206.4780222423136,
          215.81424899943178,
          315.3045670811125,
          204.28118662116412,
          223.77761580971512,
          221.30624530008632,
          254.67841239825242,
          396.80019640379675,
          183.2744445371003,
          296.56320158809876,
          236.55502866097464,
          253.03083205849987,
          334.25174098826653,
          315.5103754952528,
          257.9050321078568,
          219.10940967893686,
          305.89942834521696,
          271.56620363293496,
          315.64764293949247,
          209.77318292181866,
          410.05776705323757,
          315.09857316253385,
          344.6864783081786,
          265.31914363674315,
          344.75520478251764,
          262.98504057135403,
          265.7996724438011,
          218.83487479045755,
          289.6895873702127,
          171.32957982611367,
          216.63803916930806,
          215.05918530389454,
          188.21718555635786,
          306.1653907677379,
          269.09483312330616,
          314.40329246650055,
          273.76303925408445,
          207.57634730066917,
          215.20521071853085,
          306.4488691310523,
          217.5305558135233,
          285.3046740983104,
          267.92778159061163,
          190.55128862174698,
          205.92876696091668,
          213.55763037877836,
          334.25174098826653,
          264.4953534668669,
          196.0432849224015,
          380.74458230051044,
          256.25745176810426,
          310.56781998043357,
          256.7379805751622,
          405.71567735336095,
          244.79293035973728,
          184.92202487685282,
          296.56320158809876,
          269.8500823232818,
          309.3320419734,
          270.26188465600075,
          209.22392764042172,
          260.03314125466727,
          212.24455343144743,
          315.3045670811125,
          320.79656338176704,
          310.2245586176153,
          190.55128862174698,
          257.14978290788116,
          250.6281880232101,
          277.0581999335895,
          239.02639917060344,
          187.25612794224193,
          209.77318292181866,
          225.021966282707,
          257.56177074503853,
          183.2744445371003,
          229.54414699884893,
          186.15780288388638,
          261.2687337572625,
          334.5950023510848,
          222.1300354699626,
          308.6455192477634,
          205.92876696091668,
          262.98504057135403,
          265.7996724438011,
          191.2378113473836,
          210.04771781029797,
          373.8622101122277,
          334.25174098826653,
          225.4251961494676,
          320.3160345747091,
          349.69776029733686,
          182.45065436722402,
          216.63803916930806,
          233.8690917668089,
          197.0043425365174,
          207.64507377500817,
          273.76303925408445,
          381.1563846332294,
          238.2026090007272,
          252.20704188862362,
          202.6336062814116,
          174.35002011270106,
          211.42076326157118,
          260.44494358738626,
          304.6638358426217,
          364.52598335510953,
          205.92876696091668,
          207.57634730066917,
          187.25612794224193,
          205.92876696091668,
          377.0888298218321,
          328.2794013849924,
          182.79391573004233,
          201.05475241599808,
          235.58521307646205,
          259.209351084791,
          354.3659664281151,
          248.15681751358136,
          302.0464399183566,
          200.9860259416591,
          296.56320158809876,
          242.32155985010849,
          183.2744445371003,
          329.10319155486866,
          197.69086526215403,
          372.0775478326739,
          272.3899938028112,
          254.26661006553348,
          360.6130264243069,
          218.01108462058127,
          315.3045670811125,
          362.05461284548073,
          360.6130264243069,
          241.5664961545712,
          235.52524457251974,
          315.5103754952528,
          203.52612292562688,
          191.2378113473836,
          219.17813615327586,
          320.79656338176704,
          391.9170528796048,
          212.24455343144743,
          195.21949475252526,
          306.8608569682096,
          192.19886896149953,
          202.6336062814116,
          187.25612794224193,
          241.49776968023224,
          195.28822122686427,
          303.7715047028448,
          262.98504057135403,
          331.78037047863774,
          266.48619516943774,
          353.1301884210815,
          258.72882227773306,
          373.7251281724264,
          229.8874083616672,
          224.60140597959136,
          204.55572150964343,
          285.43336907659176,
          356.28826716078527,
          224.5370584904507,
          193.02265913137578,
          214.1666686596793,
          205.1737032653794,
          197.0043425365174,
          253.92334870271515,
          377.4494216210054,
          257.9050321078568,
          179.49875505053728,
          218.01108462058127,
          210.04771781029797,
          273.21378397268745,
          351.482608081329,
          270.7424134630587,
          265.3876846066438,
          177.02738454090849,
          221.51223921866497,
          185.6085476024894,
          218.83487479045755,
          309.3320419734,
          263.67156329699066,
          162.40077641651612,
          222.88947815069818,
          231.19172733860145,
          179.29294663639698,
          248.15681751358136,
          205.92876696091668,
          186.43233777236568,
          191.44380526596225,
          260.8569314245436,
          440.4521319324036,
          200.16223577178283,
          197.96540015063334,
          377.0888298218321,
          251.4519781930864,
          182.86264220438133,
          204.00665173268482,
          260.03314125466727,
          249.80439785333385,
          197.62213878781503,
          186.15780288388638,
          221.30624530008632,
          250.55946154887113,
          265.3876846066438,
          256.3259927380049,
          192.19886896149953,
          252.61902972578093,
          215.81424899943178,
          217.67658122815965,
          219.17813615327586,
          262.0239829572381,
          258.2482934706751,
          262.0239829572381,
          201.80981611153535,
          212.51908831992674,
          362.05461284548073,
          211.42076326157118,
          187.25612794224193,
          262.98504057135403
         ],
         "y0": " ",
         "yaxis": "y"
        }
       ],
       "layout": {
        "boxmode": "group",
        "legend": {
         "tracegroupgap": 0
        },
        "margin": {
         "t": 60
        },
        "template": {
         "data": {
          "bar": [
           {
            "error_x": {
             "color": "#2a3f5f"
            },
            "error_y": {
             "color": "#2a3f5f"
            },
            "marker": {
             "line": {
              "color": "#E5ECF6",
              "width": 0.5
             },
             "pattern": {
              "fillmode": "overlay",
              "size": 10,
              "solidity": 0.2
             }
            },
            "type": "bar"
           }
          ],
          "barpolar": [
           {
            "marker": {
             "line": {
              "color": "#E5ECF6",
              "width": 0.5
             },
             "pattern": {
              "fillmode": "overlay",
              "size": 10,
              "solidity": 0.2
             }
            },
            "type": "barpolar"
           }
          ],
          "carpet": [
           {
            "aaxis": {
             "endlinecolor": "#2a3f5f",
             "gridcolor": "white",
             "linecolor": "white",
             "minorgridcolor": "white",
             "startlinecolor": "#2a3f5f"
            },
            "baxis": {
             "endlinecolor": "#2a3f5f",
             "gridcolor": "white",
             "linecolor": "white",
             "minorgridcolor": "white",
             "startlinecolor": "#2a3f5f"
            },
            "type": "carpet"
           }
          ],
          "choropleth": [
           {
            "colorbar": {
             "outlinewidth": 0,
             "ticks": ""
            },
            "type": "choropleth"
           }
          ],
          "contour": [
           {
            "colorbar": {
             "outlinewidth": 0,
             "ticks": ""
            },
            "colorscale": [
             [
              0,
              "#0d0887"
             ],
             [
              0.1111111111111111,
              "#46039f"
             ],
             [
              0.2222222222222222,
              "#7201a8"
             ],
             [
              0.3333333333333333,
              "#9c179e"
             ],
             [
              0.4444444444444444,
              "#bd3786"
             ],
             [
              0.5555555555555556,
              "#d8576b"
             ],
             [
              0.6666666666666666,
              "#ed7953"
             ],
             [
              0.7777777777777778,
              "#fb9f3a"
             ],
             [
              0.8888888888888888,
              "#fdca26"
             ],
             [
              1,
              "#f0f921"
             ]
            ],
            "type": "contour"
           }
          ],
          "contourcarpet": [
           {
            "colorbar": {
             "outlinewidth": 0,
             "ticks": ""
            },
            "type": "contourcarpet"
           }
          ],
          "heatmap": [
           {
            "colorbar": {
             "outlinewidth": 0,
             "ticks": ""
            },
            "colorscale": [
             [
              0,
              "#0d0887"
             ],
             [
              0.1111111111111111,
              "#46039f"
             ],
             [
              0.2222222222222222,
              "#7201a8"
             ],
             [
              0.3333333333333333,
              "#9c179e"
             ],
             [
              0.4444444444444444,
              "#bd3786"
             ],
             [
              0.5555555555555556,
              "#d8576b"
             ],
             [
              0.6666666666666666,
              "#ed7953"
             ],
             [
              0.7777777777777778,
              "#fb9f3a"
             ],
             [
              0.8888888888888888,
              "#fdca26"
             ],
             [
              1,
              "#f0f921"
             ]
            ],
            "type": "heatmap"
           }
          ],
          "heatmapgl": [
           {
            "colorbar": {
             "outlinewidth": 0,
             "ticks": ""
            },
            "colorscale": [
             [
              0,
              "#0d0887"
             ],
             [
              0.1111111111111111,
              "#46039f"
             ],
             [
              0.2222222222222222,
              "#7201a8"
             ],
             [
              0.3333333333333333,
              "#9c179e"
             ],
             [
              0.4444444444444444,
              "#bd3786"
             ],
             [
              0.5555555555555556,
              "#d8576b"
             ],
             [
              0.6666666666666666,
              "#ed7953"
             ],
             [
              0.7777777777777778,
              "#fb9f3a"
             ],
             [
              0.8888888888888888,
              "#fdca26"
             ],
             [
              1,
              "#f0f921"
             ]
            ],
            "type": "heatmapgl"
           }
          ],
          "histogram": [
           {
            "marker": {
             "pattern": {
              "fillmode": "overlay",
              "size": 10,
              "solidity": 0.2
             }
            },
            "type": "histogram"
           }
          ],
          "histogram2d": [
           {
            "colorbar": {
             "outlinewidth": 0,
             "ticks": ""
            },
            "colorscale": [
             [
              0,
              "#0d0887"
             ],
             [
              0.1111111111111111,
              "#46039f"
             ],
             [
              0.2222222222222222,
              "#7201a8"
             ],
             [
              0.3333333333333333,
              "#9c179e"
             ],
             [
              0.4444444444444444,
              "#bd3786"
             ],
             [
              0.5555555555555556,
              "#d8576b"
             ],
             [
              0.6666666666666666,
              "#ed7953"
             ],
             [
              0.7777777777777778,
              "#fb9f3a"
             ],
             [
              0.8888888888888888,
              "#fdca26"
             ],
             [
              1,
              "#f0f921"
             ]
            ],
            "type": "histogram2d"
           }
          ],
          "histogram2dcontour": [
           {
            "colorbar": {
             "outlinewidth": 0,
             "ticks": ""
            },
            "colorscale": [
             [
              0,
              "#0d0887"
             ],
             [
              0.1111111111111111,
              "#46039f"
             ],
             [
              0.2222222222222222,
              "#7201a8"
             ],
             [
              0.3333333333333333,
              "#9c179e"
             ],
             [
              0.4444444444444444,
              "#bd3786"
             ],
             [
              0.5555555555555556,
              "#d8576b"
             ],
             [
              0.6666666666666666,
              "#ed7953"
             ],
             [
              0.7777777777777778,
              "#fb9f3a"
             ],
             [
              0.8888888888888888,
              "#fdca26"
             ],
             [
              1,
              "#f0f921"
             ]
            ],
            "type": "histogram2dcontour"
           }
          ],
          "mesh3d": [
           {
            "colorbar": {
             "outlinewidth": 0,
             "ticks": ""
            },
            "type": "mesh3d"
           }
          ],
          "parcoords": [
           {
            "line": {
             "colorbar": {
              "outlinewidth": 0,
              "ticks": ""
             }
            },
            "type": "parcoords"
           }
          ],
          "pie": [
           {
            "automargin": true,
            "type": "pie"
           }
          ],
          "scatter": [
           {
            "fillpattern": {
             "fillmode": "overlay",
             "size": 10,
             "solidity": 0.2
            },
            "type": "scatter"
           }
          ],
          "scatter3d": [
           {
            "line": {
             "colorbar": {
              "outlinewidth": 0,
              "ticks": ""
             }
            },
            "marker": {
             "colorbar": {
              "outlinewidth": 0,
              "ticks": ""
             }
            },
            "type": "scatter3d"
           }
          ],
          "scattercarpet": [
           {
            "marker": {
             "colorbar": {
              "outlinewidth": 0,
              "ticks": ""
             }
            },
            "type": "scattercarpet"
           }
          ],
          "scattergeo": [
           {
            "marker": {
             "colorbar": {
              "outlinewidth": 0,
              "ticks": ""
             }
            },
            "type": "scattergeo"
           }
          ],
          "scattergl": [
           {
            "marker": {
             "colorbar": {
              "outlinewidth": 0,
              "ticks": ""
             }
            },
            "type": "scattergl"
           }
          ],
          "scattermapbox": [
           {
            "marker": {
             "colorbar": {
              "outlinewidth": 0,
              "ticks": ""
             }
            },
            "type": "scattermapbox"
           }
          ],
          "scatterpolar": [
           {
            "marker": {
             "colorbar": {
              "outlinewidth": 0,
              "ticks": ""
             }
            },
            "type": "scatterpolar"
           }
          ],
          "scatterpolargl": [
           {
            "marker": {
             "colorbar": {
              "outlinewidth": 0,
              "ticks": ""
             }
            },
            "type": "scatterpolargl"
           }
          ],
          "scatterternary": [
           {
            "marker": {
             "colorbar": {
              "outlinewidth": 0,
              "ticks": ""
             }
            },
            "type": "scatterternary"
           }
          ],
          "surface": [
           {
            "colorbar": {
             "outlinewidth": 0,
             "ticks": ""
            },
            "colorscale": [
             [
              0,
              "#0d0887"
             ],
             [
              0.1111111111111111,
              "#46039f"
             ],
             [
              0.2222222222222222,
              "#7201a8"
             ],
             [
              0.3333333333333333,
              "#9c179e"
             ],
             [
              0.4444444444444444,
              "#bd3786"
             ],
             [
              0.5555555555555556,
              "#d8576b"
             ],
             [
              0.6666666666666666,
              "#ed7953"
             ],
             [
              0.7777777777777778,
              "#fb9f3a"
             ],
             [
              0.8888888888888888,
              "#fdca26"
             ],
             [
              1,
              "#f0f921"
             ]
            ],
            "type": "surface"
           }
          ],
          "table": [
           {
            "cells": {
             "fill": {
              "color": "#EBF0F8"
             },
             "line": {
              "color": "white"
             }
            },
            "header": {
             "fill": {
              "color": "#C8D4E3"
             },
             "line": {
              "color": "white"
             }
            },
            "type": "table"
           }
          ]
         },
         "layout": {
          "annotationdefaults": {
           "arrowcolor": "#2a3f5f",
           "arrowhead": 0,
           "arrowwidth": 1
          },
          "autotypenumbers": "strict",
          "coloraxis": {
           "colorbar": {
            "outlinewidth": 0,
            "ticks": ""
           }
          },
          "colorscale": {
           "diverging": [
            [
             0,
             "#8e0152"
            ],
            [
             0.1,
             "#c51b7d"
            ],
            [
             0.2,
             "#de77ae"
            ],
            [
             0.3,
             "#f1b6da"
            ],
            [
             0.4,
             "#fde0ef"
            ],
            [
             0.5,
             "#f7f7f7"
            ],
            [
             0.6,
             "#e6f5d0"
            ],
            [
             0.7,
             "#b8e186"
            ],
            [
             0.8,
             "#7fbc41"
            ],
            [
             0.9,
             "#4d9221"
            ],
            [
             1,
             "#276419"
            ]
           ],
           "sequential": [
            [
             0,
             "#0d0887"
            ],
            [
             0.1111111111111111,
             "#46039f"
            ],
            [
             0.2222222222222222,
             "#7201a8"
            ],
            [
             0.3333333333333333,
             "#9c179e"
            ],
            [
             0.4444444444444444,
             "#bd3786"
            ],
            [
             0.5555555555555556,
             "#d8576b"
            ],
            [
             0.6666666666666666,
             "#ed7953"
            ],
            [
             0.7777777777777778,
             "#fb9f3a"
            ],
            [
             0.8888888888888888,
             "#fdca26"
            ],
            [
             1,
             "#f0f921"
            ]
           ],
           "sequentialminus": [
            [
             0,
             "#0d0887"
            ],
            [
             0.1111111111111111,
             "#46039f"
            ],
            [
             0.2222222222222222,
             "#7201a8"
            ],
            [
             0.3333333333333333,
             "#9c179e"
            ],
            [
             0.4444444444444444,
             "#bd3786"
            ],
            [
             0.5555555555555556,
             "#d8576b"
            ],
            [
             0.6666666666666666,
             "#ed7953"
            ],
            [
             0.7777777777777778,
             "#fb9f3a"
            ],
            [
             0.8888888888888888,
             "#fdca26"
            ],
            [
             1,
             "#f0f921"
            ]
           ]
          },
          "colorway": [
           "#636efa",
           "#EF553B",
           "#00cc96",
           "#ab63fa",
           "#FFA15A",
           "#19d3f3",
           "#FF6692",
           "#B6E880",
           "#FF97FF",
           "#FECB52"
          ],
          "font": {
           "color": "#2a3f5f"
          },
          "geo": {
           "bgcolor": "white",
           "lakecolor": "white",
           "landcolor": "#E5ECF6",
           "showlakes": true,
           "showland": true,
           "subunitcolor": "white"
          },
          "hoverlabel": {
           "align": "left"
          },
          "hovermode": "closest",
          "mapbox": {
           "style": "light"
          },
          "paper_bgcolor": "white",
          "plot_bgcolor": "#E5ECF6",
          "polar": {
           "angularaxis": {
            "gridcolor": "white",
            "linecolor": "white",
            "ticks": ""
           },
           "bgcolor": "#E5ECF6",
           "radialaxis": {
            "gridcolor": "white",
            "linecolor": "white",
            "ticks": ""
           }
          },
          "scene": {
           "xaxis": {
            "backgroundcolor": "#E5ECF6",
            "gridcolor": "white",
            "gridwidth": 2,
            "linecolor": "white",
            "showbackground": true,
            "ticks": "",
            "zerolinecolor": "white"
           },
           "yaxis": {
            "backgroundcolor": "#E5ECF6",
            "gridcolor": "white",
            "gridwidth": 2,
            "linecolor": "white",
            "showbackground": true,
            "ticks": "",
            "zerolinecolor": "white"
           },
           "zaxis": {
            "backgroundcolor": "#E5ECF6",
            "gridcolor": "white",
            "gridwidth": 2,
            "linecolor": "white",
            "showbackground": true,
            "ticks": "",
            "zerolinecolor": "white"
           }
          },
          "shapedefaults": {
           "line": {
            "color": "#2a3f5f"
           }
          },
          "ternary": {
           "aaxis": {
            "gridcolor": "white",
            "linecolor": "white",
            "ticks": ""
           },
           "baxis": {
            "gridcolor": "white",
            "linecolor": "white",
            "ticks": ""
           },
           "bgcolor": "#E5ECF6",
           "caxis": {
            "gridcolor": "white",
            "linecolor": "white",
            "ticks": ""
           }
          },
          "title": {
           "x": 0.05
          },
          "xaxis": {
           "automargin": true,
           "gridcolor": "white",
           "linecolor": "white",
           "ticks": "",
           "title": {
            "standoff": 15
           },
           "zerolinecolor": "white",
           "zerolinewidth": 2
          },
          "yaxis": {
           "automargin": true,
           "gridcolor": "white",
           "linecolor": "white",
           "ticks": "",
           "title": {
            "standoff": 15
           },
           "zerolinecolor": "white",
           "zerolinewidth": 2
          }
         }
        },
        "xaxis": {
         "anchor": "y",
         "domain": [
          0,
          1
         ],
         "title": {
          "text": "Valor Real"
         }
        },
        "yaxis": {
         "anchor": "x",
         "domain": [
          0,
          1
         ],
         "title": {
          "text": "Predicción"
         }
        }
       }
      },
      "text/html": [
       "<div>                            <div id=\"9f691183-dc79-4dab-bcdb-1a3817e02251\" class=\"plotly-graph-div\" style=\"height:525px; width:100%;\"></div>            <script type=\"text/javascript\">                require([\"plotly\"], function(Plotly) {                    window.PLOTLYENV=window.PLOTLYENV || {};                                    if (document.getElementById(\"9f691183-dc79-4dab-bcdb-1a3817e02251\")) {                    Plotly.newPlot(                        \"9f691183-dc79-4dab-bcdb-1a3817e02251\",                        [{\"alignmentgroup\":\"True\",\"boxpoints\":\"all\",\"fillcolor\":\"rgba(255,255,255,0)\",\"hoveron\":\"points\",\"hovertemplate\":\"Valor Real=%{x}<br>Predicci\\u00f3n=%{y}<extra></extra>\",\"legendgroup\":\"\",\"line\":{\"color\":\"rgba(255,255,255,0)\"},\"marker\":{\"color\":\"#636efa\"},\"name\":\"\",\"offsetgroup\":\"\",\"orientation\":\"v\",\"pointpos\":0,\"showlegend\":false,\"x\":[304,221,294,221,207,246,259,310,310,264,230,393,258,246,269,255,232,242,184,299,334,216,267,235,285,196,209,175,297,248,346,196,216,354,228,264,260,362,196,196,152,177,182,207,301,207,244,278,179,400,292,308,225,281,292,317,344,324,177,290,320,271,281,251,191,237,179,294,267,269,280,189,264,216,230,237,380,377,340,251,186,182,251,294,191,278,191,161,340,166,212,407,175,156,197,193,225,189,294,359,347,207,290,255,229,152,228,209,225,223,186,229,276,228,347,260,283,414,294,207,253,145,235,129,232,200,290,184,294,202,196,223,435,177,308,258,258,297,200,290,301,265,184,251,179,255,269,110,285,361,235,253,264,285,292,347,310,213,175,251,317,310,195,222,230,294,237,331,237,207,237,340,359,274,382,179,244,209,334,264,202,138,275,360,168,290,380,159,179,136,175,184,189,184,214,184,244,191,274,214,318,108,329,182,340,411,209,225,317,212,230,232,260,389,179,292,267,262,380,338,253,235,322,290,336,216,421,336,384,281,366,271,276,235,222,145,165,223,184,259,283,272,297,216,189,283,225,281,288,184,200,175,380,269,184,368,248,294,251,354,281,182,292,271,306,290,216,258,212,317,308,301,184,278,244,292,235,175,216,224,248,173,255,161,285,368,237,315,209,278,274,182,218,350,380,244,304,280,168,228,271,191,207,297,380,221,258,214,159,209,283,320,320,200,209,179,200,334,324,177,202,283,255,421,230,251,198,292,237,179,329,186,432,301,242,294,230,317,315,294,221,228,338,186,182,228,308,362,212,184,258,196,193,186,237,168,292,274,366,274,419,255,435,258,251,218,322,382,216,200,221,198,191,260,359,255,168,218,221,308,414,285,281,159,235,175,230,304,267,147,218,260,145,235,207,179,194,262,413,202,207,334,251,181,189,258,237,196,163,255,294,285,274,196,235,162,172,228,265,253,264,196,230,315,202,179,271],\"x0\":\" \",\"xaxis\":\"x\",\"y\":[303.3595168656875,243.21407649432376,275.68515448231625,238.2026090007272,206.75255713079292,247.26430086936608,306.98918093761415,277.88199010346574,308.50825180352376,309.46055144724295,291.33716770996523,395.0922765512252,253.7173547841365,253.0995585328389,261.6807215944198,254.7471388725914,210.32225269877725,254.26661006553348,190.55128862174698,306.2428752124736,316.74615350228635,208.53740491478507,257.01251546364153,251.31471074884672,261.2687337572625,196.18055236664117,204.28118662116412,185.6085476024894,309.400768447739,249.5984039347552,386.4937830532893,205.65423207243737,207.71361474490882,328.27921588055403,240.67397951035593,286.05992329828604,279.5381429091766,391.9170528796048,199.33844560190656,198.5833819063693,174.89927539409803,187.25612794224193,184.92202487685282,212.58781479426574,277.88199010346574,197.14160998075707,244.79293035973728,257.14978290788116,195.21949475252526,364.3972883768282,317.570129176601,274.86136431244,213.342878489803,265.31914363674315,269.5066354560251,315.3045670811125,380.3839905013371,322.44414372151954,186.98159305376265,276.44040368229184,306.7232185150932,269.8500823232818,291.6204605688412,256.7379805751622,192.19886896149953,246.16597581101053,188.21718555635786,303.70277822850585,253.85462222837617,263.67156329699066,349.69776029733686,193.57191441277274,259.689879891849,209.22392764042172,214.99045882955554,293.808538219594,336.72311149789533,348.87415563189893,331.5745620644974,257.2185093822202,199.88770088330352,188.7664408377548,228.9263507475513,270.39915210024037,192.19886896149953,241.49776968023224,220.07922526344942,186.15780288388638,330.6820454202822,187.8053832236389,228.93492321350965,345.3040890550378,216.02900088840715,181.35232930886846,187.8053832236389,202.6336062814116,217.187294450705,221.79553207754094,273.21378397268745,334.45773490684513,339.81246376326004,210.11644428463697,273.21378397268745,221.30624530008632,288.86579720033643,170.3683367075594,240.67397951035593,207.57634730066917,216.36350428082875,211.6952981500505,192.67939776855746,290.17011617727064,263.3283019341723,235.52524457251974,314.54931788113686,257.56177074503853,267.79051414637195,351.482608081329,267.44725278355367,197.96540015063334,251.4519781930864,168.78948284214587,223.98360972829374,163.2289455715907,242.32155985010849,208.94939275194238,271.56620363293496,186.15780288388638,318.32519287213825,204.28118662116412,192.19886896149953,207.0270920192722,373.7251281724264,188.7664408377548,275.34189311949797,250.55946154887113,252.20704188862362,309.400768447739,205.92876696091668,294.3663659669493,316.6776125323857,259.689879891849,190.55128862174698,256.7379805751622,183.2744445371003,254.7471388725914,313.5795022966243,156.63862421258062,324.220233535115,342.9787439600454,214.99045882955554,251.4519781930864,255.36493512388904,264.56389443676755,267.03526494639635,300.33031860870346,308.50825180352376,220.07922526344942,187.94265066787855,257.56177074503853,333.9086651298865,313.51971929712033,237.23279341621458,289.6895873702127,223.77761580971512,268.2710429534299,224.80739989817002,330.6820454202822,214.99045882955554,195.6312970852442,214.99045882955554,331.5745620644974,363.5135297030096,266.48619516943774,404.617166790567,189.59023100763108,249.80439785333385,204.28118662116412,310.9794368087142,253.03083205849987,204.41845406540378,166.3868388068561,239.8501893404797,389.78894373279434,193.64064088711174,300.2703501047611,336.72311149789533,173.52622994282478,186.43233777236568,163.8467418228883,198.5833819063693,194.53297202688864,204.34991309550313,190.55128862174698,202.08435100001464,190.41402117750735,248.15681751358136,199.33844560190656,266.48619516943774,205.1049767910404,364.52598335510953,152.31367944462065,306.3114161823743,199.06391071342725,329.0344650805296,438.8045515926511,206.4780222423136,215.81424899943178,315.3045670811125,204.28118662116412,223.77761580971512,221.30624530008632,254.67841239825242,396.80019640379675,183.2744445371003,296.56320158809876,236.55502866097464,253.03083205849987,334.25174098826653,315.5103754952528,257.9050321078568,219.10940967893686,305.89942834521696,271.56620363293496,315.64764293949247,209.77318292181866,410.05776705323757,315.09857316253385,344.6864783081786,265.31914363674315,344.75520478251764,262.98504057135403,265.7996724438011,218.83487479045755,289.6895873702127,171.32957982611367,216.63803916930806,215.05918530389454,188.21718555635786,306.1653907677379,269.09483312330616,314.40329246650055,273.76303925408445,207.57634730066917,215.20521071853085,306.4488691310523,217.5305558135233,285.3046740983104,267.92778159061163,190.55128862174698,205.92876696091668,213.55763037877836,334.25174098826653,264.4953534668669,196.0432849224015,380.74458230051044,256.25745176810426,310.56781998043357,256.7379805751622,405.71567735336095,244.79293035973728,184.92202487685282,296.56320158809876,269.8500823232818,309.3320419734,270.26188465600075,209.22392764042172,260.03314125466727,212.24455343144743,315.3045670811125,320.79656338176704,310.2245586176153,190.55128862174698,257.14978290788116,250.6281880232101,277.0581999335895,239.02639917060344,187.25612794224193,209.77318292181866,225.021966282707,257.56177074503853,183.2744445371003,229.54414699884893,186.15780288388638,261.2687337572625,334.5950023510848,222.1300354699626,308.6455192477634,205.92876696091668,262.98504057135403,265.7996724438011,191.2378113473836,210.04771781029797,373.8622101122277,334.25174098826653,225.4251961494676,320.3160345747091,349.69776029733686,182.45065436722402,216.63803916930806,233.8690917668089,197.0043425365174,207.64507377500817,273.76303925408445,381.1563846332294,238.2026090007272,252.20704188862362,202.6336062814116,174.35002011270106,211.42076326157118,260.44494358738626,304.6638358426217,364.52598335510953,205.92876696091668,207.57634730066917,187.25612794224193,205.92876696091668,377.0888298218321,328.2794013849924,182.79391573004233,201.05475241599808,235.58521307646205,259.209351084791,354.3659664281151,248.15681751358136,302.0464399183566,200.9860259416591,296.56320158809876,242.32155985010849,183.2744445371003,329.10319155486866,197.69086526215403,372.0775478326739,272.3899938028112,254.26661006553348,360.6130264243069,218.01108462058127,315.3045670811125,362.05461284548073,360.6130264243069,241.5664961545712,235.52524457251974,315.5103754952528,203.52612292562688,191.2378113473836,219.17813615327586,320.79656338176704,391.9170528796048,212.24455343144743,195.21949475252526,306.8608569682096,192.19886896149953,202.6336062814116,187.25612794224193,241.49776968023224,195.28822122686427,303.7715047028448,262.98504057135403,331.78037047863774,266.48619516943774,353.1301884210815,258.72882227773306,373.7251281724264,229.8874083616672,224.60140597959136,204.55572150964343,285.43336907659176,356.28826716078527,224.5370584904507,193.02265913137578,214.1666686596793,205.1737032653794,197.0043425365174,253.92334870271515,377.4494216210054,257.9050321078568,179.49875505053728,218.01108462058127,210.04771781029797,273.21378397268745,351.482608081329,270.7424134630587,265.3876846066438,177.02738454090849,221.51223921866497,185.6085476024894,218.83487479045755,309.3320419734,263.67156329699066,162.40077641651612,222.88947815069818,231.19172733860145,179.29294663639698,248.15681751358136,205.92876696091668,186.43233777236568,191.44380526596225,260.8569314245436,440.4521319324036,200.16223577178283,197.96540015063334,377.0888298218321,251.4519781930864,182.86264220438133,204.00665173268482,260.03314125466727,249.80439785333385,197.62213878781503,186.15780288388638,221.30624530008632,250.55946154887113,265.3876846066438,256.3259927380049,192.19886896149953,252.61902972578093,215.81424899943178,217.67658122815965,219.17813615327586,262.0239829572381,258.2482934706751,262.0239829572381,201.80981611153535,212.51908831992674,362.05461284548073,211.42076326157118,187.25612794224193,262.98504057135403],\"y0\":\" \",\"yaxis\":\"y\",\"type\":\"box\"}],                        {\"template\":{\"data\":{\"histogram2dcontour\":[{\"type\":\"histogram2dcontour\",\"colorbar\":{\"outlinewidth\":0,\"ticks\":\"\"},\"colorscale\":[[0.0,\"#0d0887\"],[0.1111111111111111,\"#46039f\"],[0.2222222222222222,\"#7201a8\"],[0.3333333333333333,\"#9c179e\"],[0.4444444444444444,\"#bd3786\"],[0.5555555555555556,\"#d8576b\"],[0.6666666666666666,\"#ed7953\"],[0.7777777777777778,\"#fb9f3a\"],[0.8888888888888888,\"#fdca26\"],[1.0,\"#f0f921\"]]}],\"choropleth\":[{\"type\":\"choropleth\",\"colorbar\":{\"outlinewidth\":0,\"ticks\":\"\"}}],\"histogram2d\":[{\"type\":\"histogram2d\",\"colorbar\":{\"outlinewidth\":0,\"ticks\":\"\"},\"colorscale\":[[0.0,\"#0d0887\"],[0.1111111111111111,\"#46039f\"],[0.2222222222222222,\"#7201a8\"],[0.3333333333333333,\"#9c179e\"],[0.4444444444444444,\"#bd3786\"],[0.5555555555555556,\"#d8576b\"],[0.6666666666666666,\"#ed7953\"],[0.7777777777777778,\"#fb9f3a\"],[0.8888888888888888,\"#fdca26\"],[1.0,\"#f0f921\"]]}],\"heatmap\":[{\"type\":\"heatmap\",\"colorbar\":{\"outlinewidth\":0,\"ticks\":\"\"},\"colorscale\":[[0.0,\"#0d0887\"],[0.1111111111111111,\"#46039f\"],[0.2222222222222222,\"#7201a8\"],[0.3333333333333333,\"#9c179e\"],[0.4444444444444444,\"#bd3786\"],[0.5555555555555556,\"#d8576b\"],[0.6666666666666666,\"#ed7953\"],[0.7777777777777778,\"#fb9f3a\"],[0.8888888888888888,\"#fdca26\"],[1.0,\"#f0f921\"]]}],\"heatmapgl\":[{\"type\":\"heatmapgl\",\"colorbar\":{\"outlinewidth\":0,\"ticks\":\"\"},\"colorscale\":[[0.0,\"#0d0887\"],[0.1111111111111111,\"#46039f\"],[0.2222222222222222,\"#7201a8\"],[0.3333333333333333,\"#9c179e\"],[0.4444444444444444,\"#bd3786\"],[0.5555555555555556,\"#d8576b\"],[0.6666666666666666,\"#ed7953\"],[0.7777777777777778,\"#fb9f3a\"],[0.8888888888888888,\"#fdca26\"],[1.0,\"#f0f921\"]]}],\"contourcarpet\":[{\"type\":\"contourcarpet\",\"colorbar\":{\"outlinewidth\":0,\"ticks\":\"\"}}],\"contour\":[{\"type\":\"contour\",\"colorbar\":{\"outlinewidth\":0,\"ticks\":\"\"},\"colorscale\":[[0.0,\"#0d0887\"],[0.1111111111111111,\"#46039f\"],[0.2222222222222222,\"#7201a8\"],[0.3333333333333333,\"#9c179e\"],[0.4444444444444444,\"#bd3786\"],[0.5555555555555556,\"#d8576b\"],[0.6666666666666666,\"#ed7953\"],[0.7777777777777778,\"#fb9f3a\"],[0.8888888888888888,\"#fdca26\"],[1.0,\"#f0f921\"]]}],\"surface\":[{\"type\":\"surface\",\"colorbar\":{\"outlinewidth\":0,\"ticks\":\"\"},\"colorscale\":[[0.0,\"#0d0887\"],[0.1111111111111111,\"#46039f\"],[0.2222222222222222,\"#7201a8\"],[0.3333333333333333,\"#9c179e\"],[0.4444444444444444,\"#bd3786\"],[0.5555555555555556,\"#d8576b\"],[0.6666666666666666,\"#ed7953\"],[0.7777777777777778,\"#fb9f3a\"],[0.8888888888888888,\"#fdca26\"],[1.0,\"#f0f921\"]]}],\"mesh3d\":[{\"type\":\"mesh3d\",\"colorbar\":{\"outlinewidth\":0,\"ticks\":\"\"}}],\"scatter\":[{\"fillpattern\":{\"fillmode\":\"overlay\",\"size\":10,\"solidity\":0.2},\"type\":\"scatter\"}],\"parcoords\":[{\"type\":\"parcoords\",\"line\":{\"colorbar\":{\"outlinewidth\":0,\"ticks\":\"\"}}}],\"scatterpolargl\":[{\"type\":\"scatterpolargl\",\"marker\":{\"colorbar\":{\"outlinewidth\":0,\"ticks\":\"\"}}}],\"bar\":[{\"error_x\":{\"color\":\"#2a3f5f\"},\"error_y\":{\"color\":\"#2a3f5f\"},\"marker\":{\"line\":{\"color\":\"#E5ECF6\",\"width\":0.5},\"pattern\":{\"fillmode\":\"overlay\",\"size\":10,\"solidity\":0.2}},\"type\":\"bar\"}],\"scattergeo\":[{\"type\":\"scattergeo\",\"marker\":{\"colorbar\":{\"outlinewidth\":0,\"ticks\":\"\"}}}],\"scatterpolar\":[{\"type\":\"scatterpolar\",\"marker\":{\"colorbar\":{\"outlinewidth\":0,\"ticks\":\"\"}}}],\"histogram\":[{\"marker\":{\"pattern\":{\"fillmode\":\"overlay\",\"size\":10,\"solidity\":0.2}},\"type\":\"histogram\"}],\"scattergl\":[{\"type\":\"scattergl\",\"marker\":{\"colorbar\":{\"outlinewidth\":0,\"ticks\":\"\"}}}],\"scatter3d\":[{\"type\":\"scatter3d\",\"line\":{\"colorbar\":{\"outlinewidth\":0,\"ticks\":\"\"}},\"marker\":{\"colorbar\":{\"outlinewidth\":0,\"ticks\":\"\"}}}],\"scattermapbox\":[{\"type\":\"scattermapbox\",\"marker\":{\"colorbar\":{\"outlinewidth\":0,\"ticks\":\"\"}}}],\"scatterternary\":[{\"type\":\"scatterternary\",\"marker\":{\"colorbar\":{\"outlinewidth\":0,\"ticks\":\"\"}}}],\"scattercarpet\":[{\"type\":\"scattercarpet\",\"marker\":{\"colorbar\":{\"outlinewidth\":0,\"ticks\":\"\"}}}],\"carpet\":[{\"aaxis\":{\"endlinecolor\":\"#2a3f5f\",\"gridcolor\":\"white\",\"linecolor\":\"white\",\"minorgridcolor\":\"white\",\"startlinecolor\":\"#2a3f5f\"},\"baxis\":{\"endlinecolor\":\"#2a3f5f\",\"gridcolor\":\"white\",\"linecolor\":\"white\",\"minorgridcolor\":\"white\",\"startlinecolor\":\"#2a3f5f\"},\"type\":\"carpet\"}],\"table\":[{\"cells\":{\"fill\":{\"color\":\"#EBF0F8\"},\"line\":{\"color\":\"white\"}},\"header\":{\"fill\":{\"color\":\"#C8D4E3\"},\"line\":{\"color\":\"white\"}},\"type\":\"table\"}],\"barpolar\":[{\"marker\":{\"line\":{\"color\":\"#E5ECF6\",\"width\":0.5},\"pattern\":{\"fillmode\":\"overlay\",\"size\":10,\"solidity\":0.2}},\"type\":\"barpolar\"}],\"pie\":[{\"automargin\":true,\"type\":\"pie\"}]},\"layout\":{\"autotypenumbers\":\"strict\",\"colorway\":[\"#636efa\",\"#EF553B\",\"#00cc96\",\"#ab63fa\",\"#FFA15A\",\"#19d3f3\",\"#FF6692\",\"#B6E880\",\"#FF97FF\",\"#FECB52\"],\"font\":{\"color\":\"#2a3f5f\"},\"hovermode\":\"closest\",\"hoverlabel\":{\"align\":\"left\"},\"paper_bgcolor\":\"white\",\"plot_bgcolor\":\"#E5ECF6\",\"polar\":{\"bgcolor\":\"#E5ECF6\",\"angularaxis\":{\"gridcolor\":\"white\",\"linecolor\":\"white\",\"ticks\":\"\"},\"radialaxis\":{\"gridcolor\":\"white\",\"linecolor\":\"white\",\"ticks\":\"\"}},\"ternary\":{\"bgcolor\":\"#E5ECF6\",\"aaxis\":{\"gridcolor\":\"white\",\"linecolor\":\"white\",\"ticks\":\"\"},\"baxis\":{\"gridcolor\":\"white\",\"linecolor\":\"white\",\"ticks\":\"\"},\"caxis\":{\"gridcolor\":\"white\",\"linecolor\":\"white\",\"ticks\":\"\"}},\"coloraxis\":{\"colorbar\":{\"outlinewidth\":0,\"ticks\":\"\"}},\"colorscale\":{\"sequential\":[[0.0,\"#0d0887\"],[0.1111111111111111,\"#46039f\"],[0.2222222222222222,\"#7201a8\"],[0.3333333333333333,\"#9c179e\"],[0.4444444444444444,\"#bd3786\"],[0.5555555555555556,\"#d8576b\"],[0.6666666666666666,\"#ed7953\"],[0.7777777777777778,\"#fb9f3a\"],[0.8888888888888888,\"#fdca26\"],[1.0,\"#f0f921\"]],\"sequentialminus\":[[0.0,\"#0d0887\"],[0.1111111111111111,\"#46039f\"],[0.2222222222222222,\"#7201a8\"],[0.3333333333333333,\"#9c179e\"],[0.4444444444444444,\"#bd3786\"],[0.5555555555555556,\"#d8576b\"],[0.6666666666666666,\"#ed7953\"],[0.7777777777777778,\"#fb9f3a\"],[0.8888888888888888,\"#fdca26\"],[1.0,\"#f0f921\"]],\"diverging\":[[0,\"#8e0152\"],[0.1,\"#c51b7d\"],[0.2,\"#de77ae\"],[0.3,\"#f1b6da\"],[0.4,\"#fde0ef\"],[0.5,\"#f7f7f7\"],[0.6,\"#e6f5d0\"],[0.7,\"#b8e186\"],[0.8,\"#7fbc41\"],[0.9,\"#4d9221\"],[1,\"#276419\"]]},\"xaxis\":{\"gridcolor\":\"white\",\"linecolor\":\"white\",\"ticks\":\"\",\"title\":{\"standoff\":15},\"zerolinecolor\":\"white\",\"automargin\":true,\"zerolinewidth\":2},\"yaxis\":{\"gridcolor\":\"white\",\"linecolor\":\"white\",\"ticks\":\"\",\"title\":{\"standoff\":15},\"zerolinecolor\":\"white\",\"automargin\":true,\"zerolinewidth\":2},\"scene\":{\"xaxis\":{\"backgroundcolor\":\"#E5ECF6\",\"gridcolor\":\"white\",\"linecolor\":\"white\",\"showbackground\":true,\"ticks\":\"\",\"zerolinecolor\":\"white\",\"gridwidth\":2},\"yaxis\":{\"backgroundcolor\":\"#E5ECF6\",\"gridcolor\":\"white\",\"linecolor\":\"white\",\"showbackground\":true,\"ticks\":\"\",\"zerolinecolor\":\"white\",\"gridwidth\":2},\"zaxis\":{\"backgroundcolor\":\"#E5ECF6\",\"gridcolor\":\"white\",\"linecolor\":\"white\",\"showbackground\":true,\"ticks\":\"\",\"zerolinecolor\":\"white\",\"gridwidth\":2}},\"shapedefaults\":{\"line\":{\"color\":\"#2a3f5f\"}},\"annotationdefaults\":{\"arrowcolor\":\"#2a3f5f\",\"arrowhead\":0,\"arrowwidth\":1},\"geo\":{\"bgcolor\":\"white\",\"landcolor\":\"#E5ECF6\",\"subunitcolor\":\"white\",\"showland\":true,\"showlakes\":true,\"lakecolor\":\"white\"},\"title\":{\"x\":0.05},\"mapbox\":{\"style\":\"light\"}}},\"xaxis\":{\"anchor\":\"y\",\"domain\":[0.0,1.0],\"title\":{\"text\":\"Valor Real\"}},\"yaxis\":{\"anchor\":\"x\",\"domain\":[0.0,1.0],\"title\":{\"text\":\"Predicci\\u00f3n\"}},\"legend\":{\"tracegroupgap\":0},\"margin\":{\"t\":60},\"boxmode\":\"group\"},                        {\"responsive\": true}                    ).then(function(){\n",
       "                            \n",
       "var gd = document.getElementById('9f691183-dc79-4dab-bcdb-1a3817e02251');\n",
       "var x = new MutationObserver(function (mutations, observer) {{\n",
       "        var display = window.getComputedStyle(gd).display;\n",
       "        if (!display || display === 'none') {{\n",
       "            console.log([gd, 'removed!']);\n",
       "            Plotly.purge(gd);\n",
       "            observer.disconnect();\n",
       "        }}\n",
       "}});\n",
       "\n",
       "// Listen for the removal of the full notebook cells\n",
       "var notebookContainer = gd.closest('#notebook-container');\n",
       "if (notebookContainer) {{\n",
       "    x.observe(notebookContainer, {childList: true});\n",
       "}}\n",
       "\n",
       "// Listen for the clearing of the current output cell\n",
       "var outputEl = gd.closest('.output');\n",
       "if (outputEl) {{\n",
       "    x.observe(outputEl, {childList: true});\n",
       "}}\n",
       "\n",
       "                        })                };                });            </script>        </div>"
      ]
     },
     "metadata": {},
     "output_type": "display_data"
    }
   ],
   "source": [
    "px.strip(df4,\n",
    "         x          = \"Valor Real\",\n",
    "         y = \"Predicción\")"
   ]
  },
  {
   "cell_type": "markdown",
   "id": "71dc5c35",
   "metadata": {},
   "source": [
    "### Metricas"
   ]
  },
  {
   "cell_type": "code",
   "execution_count": 22,
   "id": "bb01a0dd",
   "metadata": {},
   "outputs": [],
   "source": [
    "\n",
    "from sklearn.metrics import mean_absolute_error\n",
    "from sklearn.metrics import mean_squared_error\n",
    "from sklearn.metrics import r2_score"
   ]
  },
  {
   "cell_type": "code",
   "execution_count": 23,
   "id": "be2418b1",
   "metadata": {},
   "outputs": [],
   "source": [
    "# Relative Absolute Error\n",
    "RAE = np.sum(np.abs(np.subtract(y_test, yhat))) / np.sum(np.abs(np.subtract(y_test, np.mean(y_test))))\n",
    "\n",
    "# Relative Square Error\n",
    "RSE = np.sum(np.square(np.subtract(y_test, yhat))) / np.sum(np.square(np.subtract(y_test, np.mean(y_test))))\n",
    "\n",
    "# Adjusted R**2\n",
    "r2_ajustada = 1 - (1 - regresion_lineal.score(X_test, y_test))*(len(y_test) - 1)/(len(y_test) - X_test.shape[1] - 1)"
   ]
  },
  {
   "cell_type": "code",
   "execution_count": 24,
   "id": "e01c46fb",
   "metadata": {},
   "outputs": [
    {
     "name": "stdout",
     "output_type": "stream",
     "text": [
      "MAE:\t 17.118558596689773\n",
      "MSE:\t 542.3688131548271\n",
      "R**2:\t 0.868684887276896\n",
      "RAE:\t 0.3287278371515071\n",
      "RSE:\t 0.1313151127231041\n",
      "Adjusted R**2:\t 0.8677535744207038\n"
     ]
    }
   ],
   "source": [
    "print(f\"MAE:\\t {mean_absolute_error(y_test, yhat)}\")\n",
    "print(f\"MSE:\\t {mean_squared_error(y_test, yhat)}\")\n",
    "print(f\"R**2:\\t {r2_score(y_test, yhat)}\")\n",
    "print(f\"RAE:\\t {RAE}\")\n",
    "print(f\"RSE:\\t {RSE}\")\n",
    "print(f\"Adjusted R**2:\\t {r2_ajustada}\")"
   ]
  },
  {
   "cell_type": "markdown",
   "id": "31a372a5",
   "metadata": {},
   "source": [
    "### y_test vs yhat"
   ]
  },
  {
   "cell_type": "code",
   "execution_count": 25,
   "id": "1ca72772",
   "metadata": {},
   "outputs": [
    {
     "data": {
      "text/html": [
       "<div>\n",
       "<style scoped>\n",
       "    .dataframe tbody tr th:only-of-type {\n",
       "        vertical-align: middle;\n",
       "    }\n",
       "\n",
       "    .dataframe tbody tr th {\n",
       "        vertical-align: top;\n",
       "    }\n",
       "\n",
       "    .dataframe thead th {\n",
       "        text-align: right;\n",
       "    }\n",
       "</style>\n",
       "<table border=\"1\" class=\"dataframe\">\n",
       "  <thead>\n",
       "    <tr style=\"text-align: right;\">\n",
       "      <th></th>\n",
       "      <th>y_test</th>\n",
       "      <th>yhat</th>\n",
       "      <th>diferencia</th>\n",
       "    </tr>\n",
       "  </thead>\n",
       "  <tbody>\n",
       "    <tr>\n",
       "      <th>377</th>\n",
       "      <td>218</td>\n",
       "      <td>218.011085</td>\n",
       "      <td>0.0051</td>\n",
       "    </tr>\n",
       "    <tr>\n",
       "      <th>330</th>\n",
       "      <td>329</td>\n",
       "      <td>329.103192</td>\n",
       "      <td>0.0314</td>\n",
       "    </tr>\n",
       "    <tr>\n",
       "      <th>25</th>\n",
       "      <td>196</td>\n",
       "      <td>196.180552</td>\n",
       "      <td>0.0921</td>\n",
       "    </tr>\n",
       "    <tr>\n",
       "      <th>167</th>\n",
       "      <td>331</td>\n",
       "      <td>330.682045</td>\n",
       "      <td>0.0961</td>\n",
       "    </tr>\n",
       "    <tr>\n",
       "      <th>145</th>\n",
       "      <td>255</td>\n",
       "      <td>254.747139</td>\n",
       "      <td>0.0992</td>\n",
       "    </tr>\n",
       "    <tr>\n",
       "      <th>15</th>\n",
       "      <td>255</td>\n",
       "      <td>254.747139</td>\n",
       "      <td>0.0992</td>\n",
       "    </tr>\n",
       "    <tr>\n",
       "      <th>268</th>\n",
       "      <td>212</td>\n",
       "      <td>212.244553</td>\n",
       "      <td>0.1154</td>\n",
       "    </tr>\n",
       "    <tr>\n",
       "      <th>348</th>\n",
       "      <td>212</td>\n",
       "      <td>212.244553</td>\n",
       "      <td>0.1154</td>\n",
       "    </tr>\n",
       "    <tr>\n",
       "      <th>4</th>\n",
       "      <td>207</td>\n",
       "      <td>206.752557</td>\n",
       "      <td>0.1195</td>\n",
       "    </tr>\n",
       "    <tr>\n",
       "      <th>402</th>\n",
       "      <td>251</td>\n",
       "      <td>251.451978</td>\n",
       "      <td>0.1801</td>\n",
       "    </tr>\n",
       "    <tr>\n",
       "      <th>0</th>\n",
       "      <td>304</td>\n",
       "      <td>303.359517</td>\n",
       "      <td>0.2107</td>\n",
       "    </tr>\n",
       "    <tr>\n",
       "      <th>304</th>\n",
       "      <td>380</td>\n",
       "      <td>381.156385</td>\n",
       "      <td>0.3043</td>\n",
       "    </tr>\n",
       "    <tr>\n",
       "      <th>302</th>\n",
       "      <td>207</td>\n",
       "      <td>207.645074</td>\n",
       "      <td>0.3116</td>\n",
       "    </tr>\n",
       "    <tr>\n",
       "      <th>46</th>\n",
       "      <td>244</td>\n",
       "      <td>244.792930</td>\n",
       "      <td>0.3250</td>\n",
       "    </tr>\n",
       "    <tr>\n",
       "      <th>263</th>\n",
       "      <td>271</td>\n",
       "      <td>269.850082</td>\n",
       "      <td>0.4243</td>\n",
       "    </tr>\n",
       "    <tr>\n",
       "      <th>61</th>\n",
       "      <td>271</td>\n",
       "      <td>269.850082</td>\n",
       "      <td>0.4243</td>\n",
       "    </tr>\n",
       "    <tr>\n",
       "      <th>397</th>\n",
       "      <td>262</td>\n",
       "      <td>260.856931</td>\n",
       "      <td>0.4363</td>\n",
       "    </tr>\n",
       "    <tr>\n",
       "      <th>279</th>\n",
       "      <td>224</td>\n",
       "      <td>225.021966</td>\n",
       "      <td>0.4562</td>\n",
       "    </tr>\n",
       "    <tr>\n",
       "      <th>320</th>\n",
       "      <td>202</td>\n",
       "      <td>201.054752</td>\n",
       "      <td>0.4679</td>\n",
       "    </tr>\n",
       "    <tr>\n",
       "      <th>57</th>\n",
       "      <td>324</td>\n",
       "      <td>322.444144</td>\n",
       "      <td>0.4802</td>\n",
       "    </tr>\n",
       "  </tbody>\n",
       "</table>\n",
       "</div>"
      ],
      "text/plain": [
       "     y_test        yhat  diferencia\n",
       "377     218  218.011085      0.0051\n",
       "330     329  329.103192      0.0314\n",
       "25      196  196.180552      0.0921\n",
       "167     331  330.682045      0.0961\n",
       "145     255  254.747139      0.0992\n",
       "15      255  254.747139      0.0992\n",
       "268     212  212.244553      0.1154\n",
       "348     212  212.244553      0.1154\n",
       "4       207  206.752557      0.1195\n",
       "402     251  251.451978      0.1801\n",
       "0       304  303.359517      0.2107\n",
       "304     380  381.156385      0.3043\n",
       "302     207  207.645074      0.3116\n",
       "46      244  244.792930      0.3250\n",
       "263     271  269.850082      0.4243\n",
       "61      271  269.850082      0.4243\n",
       "397     262  260.856931      0.4363\n",
       "279     224  225.021966      0.4562\n",
       "320     202  201.054752      0.4679\n",
       "57      324  322.444144      0.4802"
      ]
     },
     "execution_count": 25,
     "metadata": {},
     "output_type": "execute_result"
    }
   ],
   "source": [
    "# Veamos los valores de yhat, y_test y su diferencia\n",
    "\n",
    "df_pred = pd.DataFrame()\n",
    "\n",
    "df_pred[\"y_test\"] = y_test.flatten()\n",
    "df_pred[\"yhat\"] = yhat.flatten()\n",
    "\n",
    "df_pred[\"diferencia\"] = round(abs((df_pred[\"y_test\"] - df_pred[\"yhat\"]) / df_pred[\"y_test\"] * 100), 4)\n",
    "\n",
    "df_pred = df_pred.sort_values(\"diferencia\")\n",
    "\n",
    "df_pred.head(20)"
   ]
  },
  {
   "cell_type": "code",
   "execution_count": 26,
   "id": "74336121",
   "metadata": {},
   "outputs": [],
   "source": [
    "################################################################################################################################"
   ]
  }
 ],
 "metadata": {
  "kernelspec": {
   "display_name": "Python 3 (ipykernel)",
   "language": "python",
   "name": "python3"
  },
  "language_info": {
   "codemirror_mode": {
    "name": "ipython",
    "version": 3
   },
   "file_extension": ".py",
   "mimetype": "text/x-python",
   "name": "python",
   "nbconvert_exporter": "python",
   "pygments_lexer": "ipython3",
   "version": "3.9.13"
  }
 },
 "nbformat": 4,
 "nbformat_minor": 5
}
